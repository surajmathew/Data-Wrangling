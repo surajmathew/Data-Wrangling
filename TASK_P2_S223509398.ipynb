{
 "cells": [
  {
   "cell_type": "markdown",
   "id": "9e3a6c26",
   "metadata": {},
   "source": [
    "<hr style=\"height:2px; width:100%\">\n",
    "\n",
    "<h1 style=\"color:#32611D\">Task P2: SIG 734 Data Wrangling - Working with numpy Vectors (Unidimensional Data)</h1>\n",
    "\n",
    "<p style=\"color:#551D61; font-size:16px\";>\n",
    "    Name: &emsp;&emsp;&emsp; Suraj Mathew Thomas<br>\n",
    "    Student ID: &ensp; S223509398<br>\n",
    "    Email ID: &emsp;&ensp;&ensp; s223509398@deakin.edu.au<br><br>\n",
    "</p>\n",
    "\n",
    "<hr style=\"height:2px; width:100%\">"
   ]
  },
  {
   "cell_type": "markdown",
   "id": "838fe0a7",
   "metadata": {},
   "source": [
    "<h2 style=\"color:#336699\"> Introduction</h2>\n",
    "\n",
    "* Packages that can be used scipy and numpy\n",
    "* Packages that cannot be used pandas\n",
    "* No For Loops or List Comprehension\n",
    "\n",
    "<p style=\"color:#20568B; font-size:15px\";>\n",
    "This task is about using the numpy library and performing descriptive analysis on the given dataset. The dataset is the Bitcoin to USD data from 1-1-2023 to 4-1-2024. The dataset is downloaded from Yahoo Finance and then cleaned using excel by retaining only the Close Price column. This is then loaded into the Jupyter Notebook using the numpy library function loadtxt. After it is loaded, a subset of the data is extracted highlighting Q3-2023 data alone. Descriptive statistics is then performed on this subset of data and then visualized using a line chart and a boxplot. Finally the outliers are also identified and reported.</p>"
   ]
  },
  {
   "cell_type": "markdown",
   "id": "083b26fe",
   "metadata": {},
   "source": [
    "<h style=\"height:1px; width:100%\">\n",
    "\n",
    "<h2 style=\"color:#1D3361\"> Step 1: Importing the necessary libraries</h2>"
   ]
  },
  {
   "cell_type": "code",
   "execution_count": 12,
   "id": "b0f390c3",
   "metadata": {},
   "outputs": [],
   "source": [
    "import numpy as np #importing numpy library for numerical and statistical calculations\n",
    "import matplotlib.pyplot as plt #importing matpolotlib library for visualization using graphs"
   ]
  },
  {
   "cell_type": "markdown",
   "id": "15d93543",
   "metadata": {},
   "source": [
    "<h style=\"height:1px; width:100%\">\n",
    "\n",
    "<h2 style=\"color:#1D3361\"> Step 2: Load the input text file in csv format</h2>"
   ]
  },
  {
   "cell_type": "code",
   "execution_count": 18,
   "id": "402b2c81",
   "metadata": {},
   "outputs": [],
   "source": [
    "rates = np.loadtxt(\"BTC-USD-Modified.csv\") #reading the input file and storing it in variable \"rates\""
   ]
  },
  {
   "cell_type": "code",
   "execution_count": 24,
   "id": "e073d5d0",
   "metadata": {},
   "outputs": [
    {
     "data": {
      "text/plain": [
       "(369,)"
      ]
     },
     "execution_count": 24,
     "metadata": {},
     "output_type": "execute_result"
    }
   ],
   "source": [
    "rates.shape #There are 369 rows in the loaded dataset"
   ]
  },
  {
   "cell_type": "code",
   "execution_count": 23,
   "id": "3ff0d6dd",
   "metadata": {},
   "outputs": [
    {
     "data": {
      "text/plain": [
       "array([16625.08, 16688.47, 16679.86, 16863.24, 16836.74])"
      ]
     },
     "execution_count": 23,
     "metadata": {},
     "output_type": "execute_result"
    }
   ],
   "source": [
    "rates[:5] #Displaying the first 5 elements of the array that the input data was loaded into"
   ]
  },
  {
   "cell_type": "markdown",
   "id": "df96c585",
   "metadata": {},
   "source": [
    "<h style=\"height:1px; width:100%\">\n",
    "\n",
    "<h2 style=\"color:#1D3361\"> Step 3: Extracting the Q3 Data Alone from the 'rates' array [dataset]</h2>"
   ]
  },
  {
   "cell_type": "markdown",
   "id": "96c904c1",
   "metadata": {},
   "source": [
    "We are defining 3 variables here.\n",
    "\n",
    "* To hold the starting row of the start of Q3 - pointer to July 1 data\n",
    "* To hold the ending row of the end of Q3 - pointer September 30 data\n",
    "* Variable to extract this subset of data from the main loaded data"
   ]
  },
  {
   "cell_type": "code",
   "execution_count": 21,
   "id": "d4f8c0d9",
   "metadata": {},
   "outputs": [],
   "source": [
    "q3_start_row = 182 #Starting Row Number of Q3\n",
    "q3_end_row = 273 #Ending Row Number of Q3\n",
    "q3_data = rates[q3_start_row - 1 : q3_end_row] #Extracting the subset (Q3 - 2023 data) from the original dataset"
   ]
  },
  {
   "cell_type": "code",
   "execution_count": 25,
   "id": "a83d6603",
   "metadata": {},
   "outputs": [
    {
     "data": {
      "text/plain": [
       "(92,)"
      ]
     },
     "execution_count": 25,
     "metadata": {},
     "output_type": "execute_result"
    }
   ],
   "source": [
    "q3_data.shape #The extracted Q3 data contains 92 rows [Q3 is from July to September both inclusive]\n",
    "\n",
    "#July - 31 days | August - 31 days | September - 30 days [31+31+30] = 92 days = 92 rows"
   ]
  },
  {
   "cell_type": "code",
   "execution_count": 22,
   "id": "f6ebe458",
   "metadata": {},
   "outputs": [
    {
     "data": {
      "text/plain": [
       "array([30590.08, 30620.77, 31156.44, 30777.58, 30514.17])"
      ]
     },
     "execution_count": 22,
     "metadata": {},
     "output_type": "execute_result"
    }
   ],
   "source": [
    "q3_data[:5] #Displaying the first 5 elements from the subset"
   ]
  },
  {
   "cell_type": "markdown",
   "id": "78b1bdbc",
   "metadata": {},
   "source": [
    "<h style=\"height:1px; width:100%\">\n",
    "\n",
    "<h2 style=\"color:#1D3361\"> Step 4: Calculating the Aggregates for the Q3 Data </h2>"
   ]
  },
  {
   "cell_type": "markdown",
   "id": "13eaa363",
   "metadata": {},
   "source": [
    "To calculate the statistics on the extracted data, we are using the numpy library functions like mean, min, percential, max, standard deviation etc to calculate these aggregates on the closing price column of Q3- 2023"
   ]
  },
  {
   "cell_type": "code",
   "execution_count": 26,
   "id": "0e12fd15",
   "metadata": {},
   "outputs": [],
   "source": [
    "#Statistics for the Closing Price Column\n",
    "q3_mean = np.mean(q3_data) #Arithmetic Mean\n",
    "q3_min_val = np.min(q3_data) #Minimum Value\n",
    "q3_first_quartile = np.percentile(q3_data, 25) #First Quartile\n",
    "q3_median = np.median(q3_data) #Median\n",
    "q3_thrid_quartile = np.percentile(q3_data, 75) #Third Quartile\n",
    "q3_max_val = np.max(q3_data) #Maximum Value\n",
    "q3_std_dev = np.std(q3_data) #Standard Deviation\n",
    "q3_iqr = q3_thrid_quartile - q3_first_quartile #Interquartile Range [Q3 - Q1]"
   ]
  },
  {
   "cell_type": "markdown",
   "id": "dc79ad6d",
   "metadata": {},
   "source": [
    "<h style=\"height:1px; width:100%\">\n",
    "\n",
    "<h2 style=\"color:#1D3361\"> Step 5: Displaying the Descriptive Statistics</h2>"
   ]
  },
  {
   "cell_type": "code",
   "execution_count": 37,
   "id": "06d47868",
   "metadata": {},
   "outputs": [
    {
     "name": "stdout",
     "output_type": "stream",
     "text": [
      "Q3 2023 BTC - USD Statistics:\n",
      "Arithmetic Mean: 28091.33\n",
      "Minimum Value: 25162.65\n",
      "Q1 - First Quartile: 26225.55\n",
      "Median: 28871.82\n",
      "Q3 - Third Quartile: 29767.07\n",
      "Maximum Value: 31476.05\n",
      "Standard deviation: 1827.04\n",
      "IQR - Interquartile Range: 3541.52\n"
     ]
    }
   ],
   "source": [
    "# Priting the Statistics that were calcualted above on the Q3 Data subset\n",
    "# Each of the calculated value is rounded to 2 decimals.\n",
    "print(\"Q3 2023 BTC - USD Statistics:\")\n",
    "print(f\"Arithmetic Mean: {q3_mean:.2f}\")\n",
    "print(f\"Minimum Value: {q3_min_val:.2f}\")\n",
    "print(f\"Q1 - First Quartile: {q3_first_quartile:.2f}\")\n",
    "print(f\"Median: {q3_median:.2f}\")\n",
    "print(f\"Q3 - Third Quartile: {q3_thrid_quartile:.2f}\")\n",
    "print(f\"Maximum Value: {q3_max_val:.2f}\")\n",
    "print(f\"Standard deviation: {q3_std_dev:.2f}\")\n",
    "print(f\"IQR - Interquartile Range: {q3_iqr:.2f}\")"
   ]
  },
  {
   "cell_type": "markdown",
   "id": "2fbc0fcb",
   "metadata": {},
   "source": [
    "<h style=\"height:1px; width:100%\">\n",
    "\n",
    "<h2 style=\"color:#1D3361\"> Step 6: Plotting the Series Graph of the Bitcoin Vs USD for Q3 2023</h2>"
   ]
  },
  {
   "cell_type": "code",
   "execution_count": 73,
   "id": "f9f56a96",
   "metadata": {},
   "outputs": [],
   "source": [
    "days = [*range(182, 274, 1)] #Defing the Day Ranges for Q3 2023"
   ]
  },
  {
   "cell_type": "code",
   "execution_count": 74,
   "id": "0c4b761b",
   "metadata": {},
   "outputs": [
    {
     "data": {
      "image/png": "[encoded data removed]",
      "text/plain": [
       "<Figure size 640x480 with 1 Axes>"
      ]
     },
     "metadata": {},
     "output_type": "display_data"
    }
   ],
   "source": [
    "plt.plot(days,q3_data, color='red', linestyle='-', marker='.')#plotting the line graph between days and bitcoin value\n",
    "plt.title(\"BTC-to-USD Daily Close Prices in Q3 2023\") #title of the graph\n",
    "plt.xlabel(\"Day\") #X-axis label of the graph\n",
    "plt.ylabel(\"Close Price in Dollars\") #Y-axis label of the graph\n",
    "plt.show() #displaying the graph"
   ]
  },
  {
   "cell_type": "markdown",
   "id": "8cf8c667",
   "metadata": {},
   "source": [
    "<h3 style=\"color:#336699\"> Interpretation</h3>\n",
    "\n",
    "<p style=\"color:#20568B; font-size:15px\";>\n",
    "We can see the volatility of the the Bitcoin value against the US dollar. There is a significant drop in value since the start of Q3 - 2023. The value at 182'nd day (July 1 2023) was 30590.08. The value at the 273'rd day (September 30 2023) was 26967.92. That is a drop of around 3623 dollars. We can also see a sharp drop from the 227th day to the 229th day (from 29K to 26K)..</p>\n",
    "\n",
    "<p style=\"color:#20568B; font-size:15px\";>\n",
    "Volatility can be attributed to the reason that Bitcoin trade is not regulated and the underlying value is actually questionable..</p>"
   ]
  },
  {
   "cell_type": "markdown",
   "id": "92f91aca",
   "metadata": {},
   "source": [
    "<h style=\"height:1px; width:100%\">\n",
    "\n",
    "<h2 style=\"color:#1D3361\"> Step 7: Determining the Lowest and Highest Price Values during the Q3 - 2023 Period</h2>"
   ]
  },
  {
   "cell_type": "code",
   "execution_count": 78,
   "id": "69f02482",
   "metadata": {},
   "outputs": [],
   "source": [
    "lowest_day = days[np.argmin(q3_data)] #using the argmin function of numpy to get the lowest day of the price\n",
    "highest_day = days[np.argmax(q3_data)] #using the argmax function of numpy to get the highest day of the price"
   ]
  },
  {
   "cell_type": "code",
   "execution_count": 79,
   "id": "111af632",
   "metadata": {},
   "outputs": [
    {
     "data": {
      "text/plain": [
       "254"
      ]
     },
     "execution_count": 79,
     "metadata": {},
     "output_type": "execute_result"
    }
   ],
   "source": [
    "lowest_day"
   ]
  },
  {
   "cell_type": "code",
   "execution_count": 80,
   "id": "a13aaa1b",
   "metadata": {},
   "outputs": [
    {
     "data": {
      "text/plain": [
       "194"
      ]
     },
     "execution_count": 80,
     "metadata": {},
     "output_type": "execute_result"
    }
   ],
   "source": [
    "highest_day"
   ]
  },
  {
   "cell_type": "markdown",
   "id": "724c9749",
   "metadata": {},
   "source": [
    "Printing the highest and lowest days with their corresponding Bitcoin closing price"
   ]
  },
  {
   "cell_type": "code",
   "execution_count": 85,
   "id": "85950d23",
   "metadata": {
    "scrolled": true
   },
   "outputs": [
    {
     "name": "stdout",
     "output_type": "stream",
     "text": [
      "Day with the Highest Price in Q3-2023: 194 (Price: 31476.05)\n",
      "Day with the Lowest Price in Q3-2023: 254 (Price 25162.65)\n"
     ]
    }
   ],
   "source": [
    "print(f\"Day with the Highest Price in Q3-2023: {highest_day} (Price: {q3_max_val:.2f})\")\n",
    "print(f\"Day with the Lowest Price in Q3-2023: {lowest_day} (Price {q3_min_val:.2f})\")"
   ]
  },
  {
   "cell_type": "markdown",
   "id": "b33c54ad",
   "metadata": {},
   "source": [
    "\n",
    "<h style=\"height:1px; width:100%\">\n",
    "\n",
    "<h2 style=\"color:#1D3361\">Step 8: Boxplot for Q3 - 2023</h2>"
   ]
  },
  {
   "cell_type": "code",
   "execution_count": 147,
   "id": "884dc497",
   "metadata": {},
   "outputs": [
    {
     "data": {
      "image/png": "[encoded data removed]",
      "text/plain": [
       "<Figure size 1100x400 with 1 Axes>"
      ]
     },
     "metadata": {},
     "output_type": "display_data"
    }
   ],
   "source": [
    "plt.figure(figsize=(11,4))#defining the boxplot display size\n",
    "plt.boxplot(np.diff(q3_data), showfliers = True, vert = False, showmeans = True, meanprops={\"marker\": \"x\",\n",
    "                       \"markeredgecolor\": \"green\",\n",
    "                       \"markersize\": \"10\"}) #arguments are given to show the outliers and the mean value specifically using the 'x' marker\n",
    "plt.show()"
   ]
  },
  {
   "cell_type": "markdown",
   "id": "572ba739",
   "metadata": {},
   "source": [
    "**np.diff() - calculates the nth difference along a given axis of a given input array. Therefore for the Q3 data array, we have the box plot stretched from -2000 to 1700 where the outliers are calculated based on the IQR, upperbound and lowerbound calculations.**"
   ]
  },
  {
   "cell_type": "code",
   "execution_count": 135,
   "id": "8f9f9a0d",
   "metadata": {},
   "outputs": [],
   "source": [
    "Q1 = np.percentile(np.diff(q3_data), 25) #first quartile value\n",
    "Q3 = np.percentile(np.diff(q3_data), 75) #thrid quartile value\n",
    "IQR = Q3 - Q1 #finding the interquartile range"
   ]
  },
  {
   "cell_type": "code",
   "execution_count": 136,
   "id": "5b0fd1c4",
   "metadata": {},
   "outputs": [],
   "source": [
    "# Define bounds for the outliers\n",
    "lower_bound = Q1 - 1.5 * IQR # Formula to calculate the lower bound\n",
    "upper_bound = Q3 + 1.5 * IQR # Formula to calculate the upper bound"
   ]
  },
  {
   "cell_type": "code",
   "execution_count": 137,
   "id": "b73c158a",
   "metadata": {},
   "outputs": [
    {
     "data": {
      "text/plain": [
       "-494.4850000000033"
      ]
     },
     "execution_count": 137,
     "metadata": {},
     "output_type": "execute_result"
    }
   ],
   "source": [
    "lower_bound"
   ]
  },
  {
   "cell_type": "code",
   "execution_count": 138,
   "id": "9a3e0357",
   "metadata": {},
   "outputs": [
    {
     "data": {
      "text/plain": [
       "464.1550000000034"
      ]
     },
     "execution_count": 138,
     "metadata": {},
     "output_type": "execute_result"
    }
   ],
   "source": [
    "upper_bound"
   ]
  },
  {
   "cell_type": "code",
   "execution_count": 143,
   "id": "33db40a2",
   "metadata": {},
   "outputs": [],
   "source": [
    "# Use vectorized operations to count the outliers\n",
    "outliers = np.diff(q3_data)[(np.diff(q3_data) < lower_bound) | (np.diff(q3_data) > upper_bound)]\n",
    "num_outliers = len(outliers)"
   ]
  },
  {
   "cell_type": "code",
   "execution_count": 150,
   "id": "3f95c7a0",
   "metadata": {
    "scrolled": true
   },
   "outputs": [
    {
     "data": {
      "text/plain": [
       "16"
      ]
     },
     "execution_count": 150,
     "metadata": {},
     "output_type": "execute_result"
    }
   ],
   "source": [
    "num_outliers"
   ]
  },
  {
   "cell_type": "code",
   "execution_count": 151,
   "id": "81f41790",
   "metadata": {},
   "outputs": [
    {
     "name": "stdout",
     "output_type": "stream",
     "text": [
      "The number of outliers is: 16\n"
     ]
    }
   ],
   "source": [
    "print(\"The number of outliers is:\", num_outliers)"
   ]
  },
  {
   "cell_type": "markdown",
   "id": "ec59c998",
   "metadata": {},
   "source": [
    "<h3 style=\"color:#336699\"> Conclusion</h3>\n",
    "\n",
    "<p style=\"color:#20568B; font-size:15px\";>\n",
    "We have seen above how the numpy library can be used to perform descriptive statistics on the bitcoin to usd dataset. This dataset can also be treated as a timeseries dataset. We have learnt how to </p>\n",
    "\n",
    "<p style=\"color:#20568B; font-size:16px\" >\n",
    "    <ul style=\"color:#20568B; font-size:16px\";>\n",
    "        <li> Load the data using the numpy library without using the pandas library. We have loaded only the closing price of the bitcoin data ( 12 month data ) - 2023.</li>\n",
    "        <li>We have extracted a subset of the data only to focus on the Q3-2023 data.</li>\n",
    "        <li>We have then run descriptive stats on the subset data to find the measure of central tendency, the percentile values, IQR, max and min values.</li>\n",
    "        <li>We have then visualized the subset data on a line graph and seen the volatility of the price within the quater with huge variations of the price dropping towards the end of the quarter.</li>\n",
    "        <li>We have also drawn a boxplot to visualize and report the outliers.</li>\n",
    "    </ul>\n",
    "</p>\n"
   ]
  },
  {
   "cell_type": "markdown",
   "id": "718b1b5d",
   "metadata": {},
   "source": [
    "**References**\n",
    "\n",
    "* Numpy Library (n.d), Numpy,  https://numpy.org/doc/stable/reference/generated/numpy.diff.html, accessed 5th January 2024.\n"
   ]
  }
 ],
 "metadata": {
  "kernelspec": {
   "display_name": "Python 3 (ipykernel)",
   "language": "python",
   "name": "python3"
  },
  "language_info": {
   "codemirror_mode": {
    "name": "ipython",
    "version": 3
   },
   "file_extension": ".py",
   "mimetype": "text/x-python",
   "name": "python",
   "nbconvert_exporter": "python",
   "pygments_lexer": "ipython3",
   "version": "3.10.9"
  }
 },
 "nbformat": 4,
 "nbformat_minor": 5
}
