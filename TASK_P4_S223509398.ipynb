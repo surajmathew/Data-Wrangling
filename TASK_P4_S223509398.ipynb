{
 "cells": [
  {
   "cell_type": "markdown",
   "id": "e8c53b0e",
   "metadata": {},
   "source": [
    "<hr style=\"height:2px; width:100%\">\n",
    "\n",
    "<h1 style=\"color:#32611D\">Task P4: SIG 734 Data Wrangling - Working with pandas Data Frames (Heterogeneous Data)</h1>\n",
    "\n",
    "<p style=\"color:#551D61; font-size:16px\";>\n",
    "    Name: &emsp;&emsp;&emsp; Suraj Mathew Thomas<br>\n",
    "    Student ID: &ensp; S223509398<br>\n",
    "    Email ID: &emsp;&ensp;&ensp; s223509398@deakin.edu.au<br><br>\n",
    "</p>\n",
    "\n",
    "<hr style=\"height:2px; width:100%\">\n"
   ]
  },
  {
   "cell_type": "markdown",
   "id": "838fe0a7",
   "metadata": {},
   "source": [
    "<h2 style=\"color:#336699\"> Introduction</h2>\n",
    "\n",
    "* In this task we are allowed to use the pandas dataframe\n",
    "\n",
    "<p style=\"color:#20568B; font-size:15px\";>\n",
    "This task is about using the pandas, numpy and scipy libraries and performing analysis on the NYC Flight data for 2013. The observations in the dataset are about the temparature, humidity, pressure, visibility and other factors along with timestamps. These are essentials observations, that would aid in the fligts take off and landing at the airports in NYC.</p>"
   ]
  },
  {
   "cell_type": "markdown",
   "id": "083b26fe",
   "metadata": {},
   "source": [
    "<h style=\"height:1px; width:100%\">\n",
    "\n",
    "<h2 style=\"color:#1D3361\"> Step 1: Importing the necessary libraries</h2>"
   ]
  },
  {
   "cell_type": "code",
   "execution_count": 33,
   "id": "b0f390c3",
   "metadata": {},
   "outputs": [],
   "source": [
    "#Importing the necessary libraries. We are supposed to perform the entire analysis using only numpy and scipy\n",
    "#Pandas is not to be used\n",
    "import numpy as np\n",
    "import pandas as pd\n",
    "import matplotlib.pyplot as plt #for graphical plotting and visusalization\n",
    "%matplotlib.inline #to ensure that the plots are displayed inline in the Jupyter notebook\n",
    "import scipy.stats as stats\n",
    "import seaborn as sns #for plots and visualizations\n",
    "import scipy.stats as stats\n",
    "import statistics as st\n",
    "from scipy.stats.mstats import mquantiles\n",
    "from scipy.stats import iqr\n",
    "from scipy.stats import pearsonr"
   ]
  },
  {
   "cell_type": "markdown",
   "id": "15d93543",
   "metadata": {},
   "source": [
    "<h style=\"height:1px; width:100%\">\n",
    "\n",
    "<h2 style=\"color:#1D3361\"> Step 2: Read the File using Pandas Read CSV function </h2>"
   ]
  },
  {
   "cell_type": "code",
   "execution_count": 16,
   "id": "b7cbf523",
   "metadata": {},
   "outputs": [],
   "source": [
    "flight_data = pd.read_csv(\"nycflights13_weather.csv\",skiprows = 42) #Reading the dataset using read csv into a dataframe\n",
    "# The first 42 rows are skipped because they contain comments in the source file and are not the actual data."
   ]
  },
  {
   "cell_type": "code",
   "execution_count": 17,
   "id": "2d57ce1b",
   "metadata": {},
   "outputs": [
    {
     "data": {
      "text/html": [
       "<div>\n",
       "<style scoped>\n",
       "    .dataframe tbody tr th:only-of-type {\n",
       "        vertical-align: middle;\n",
       "    }\n",
       "\n",
       "    .dataframe tbody tr th {\n",
       "        vertical-align: top;\n",
       "    }\n",
       "\n",
       "    .dataframe thead th {\n",
       "        text-align: right;\n",
       "    }\n",
       "</style>\n",
       "<table border=\"1\" class=\"dataframe\">\n",
       "  <thead>\n",
       "    <tr style=\"text-align: right;\">\n",
       "      <th></th>\n",
       "      <th>origin</th>\n",
       "      <th>year</th>\n",
       "      <th>month</th>\n",
       "      <th>day</th>\n",
       "      <th>hour</th>\n",
       "      <th>temp</th>\n",
       "      <th>dewp</th>\n",
       "      <th>humid</th>\n",
       "      <th>wind_dir</th>\n",
       "      <th>wind_speed</th>\n",
       "      <th>wind_gust</th>\n",
       "      <th>precip</th>\n",
       "      <th>pressure</th>\n",
       "      <th>visib</th>\n",
       "      <th>time_hour</th>\n",
       "    </tr>\n",
       "  </thead>\n",
       "  <tbody>\n",
       "    <tr>\n",
       "      <th>0</th>\n",
       "      <td>EWR</td>\n",
       "      <td>2013</td>\n",
       "      <td>1</td>\n",
       "      <td>1</td>\n",
       "      <td>0</td>\n",
       "      <td>37.04</td>\n",
       "      <td>21.92</td>\n",
       "      <td>53.97</td>\n",
       "      <td>230.0</td>\n",
       "      <td>10.35702</td>\n",
       "      <td>11.918651</td>\n",
       "      <td>0.0</td>\n",
       "      <td>1013.9</td>\n",
       "      <td>10.0</td>\n",
       "      <td>2013-01-01 01:00:00</td>\n",
       "    </tr>\n",
       "    <tr>\n",
       "      <th>1</th>\n",
       "      <td>EWR</td>\n",
       "      <td>2013</td>\n",
       "      <td>1</td>\n",
       "      <td>1</td>\n",
       "      <td>1</td>\n",
       "      <td>37.04</td>\n",
       "      <td>21.92</td>\n",
       "      <td>53.97</td>\n",
       "      <td>230.0</td>\n",
       "      <td>13.80936</td>\n",
       "      <td>15.891535</td>\n",
       "      <td>0.0</td>\n",
       "      <td>1013.0</td>\n",
       "      <td>10.0</td>\n",
       "      <td>2013-01-01 02:00:00</td>\n",
       "    </tr>\n",
       "    <tr>\n",
       "      <th>2</th>\n",
       "      <td>EWR</td>\n",
       "      <td>2013</td>\n",
       "      <td>1</td>\n",
       "      <td>1</td>\n",
       "      <td>2</td>\n",
       "      <td>37.94</td>\n",
       "      <td>21.92</td>\n",
       "      <td>52.09</td>\n",
       "      <td>230.0</td>\n",
       "      <td>12.65858</td>\n",
       "      <td>14.567241</td>\n",
       "      <td>0.0</td>\n",
       "      <td>1012.6</td>\n",
       "      <td>10.0</td>\n",
       "      <td>2013-01-01 03:00:00</td>\n",
       "    </tr>\n",
       "    <tr>\n",
       "      <th>3</th>\n",
       "      <td>EWR</td>\n",
       "      <td>2013</td>\n",
       "      <td>1</td>\n",
       "      <td>1</td>\n",
       "      <td>3</td>\n",
       "      <td>37.94</td>\n",
       "      <td>23.00</td>\n",
       "      <td>54.51</td>\n",
       "      <td>230.0</td>\n",
       "      <td>13.80936</td>\n",
       "      <td>15.891535</td>\n",
       "      <td>0.0</td>\n",
       "      <td>1012.7</td>\n",
       "      <td>10.0</td>\n",
       "      <td>2013-01-01 04:00:00</td>\n",
       "    </tr>\n",
       "    <tr>\n",
       "      <th>4</th>\n",
       "      <td>EWR</td>\n",
       "      <td>2013</td>\n",
       "      <td>1</td>\n",
       "      <td>1</td>\n",
       "      <td>4</td>\n",
       "      <td>37.94</td>\n",
       "      <td>24.08</td>\n",
       "      <td>57.04</td>\n",
       "      <td>240.0</td>\n",
       "      <td>14.96014</td>\n",
       "      <td>17.215830</td>\n",
       "      <td>0.0</td>\n",
       "      <td>1012.8</td>\n",
       "      <td>10.0</td>\n",
       "      <td>2013-01-01 05:00:00</td>\n",
       "    </tr>\n",
       "  </tbody>\n",
       "</table>\n",
       "</div>"
      ],
      "text/plain": [
       "  origin  year  month  day  hour   temp   dewp  humid  wind_dir  wind_speed  \\\n",
       "0    EWR  2013      1    1     0  37.04  21.92  53.97     230.0    10.35702   \n",
       "1    EWR  2013      1    1     1  37.04  21.92  53.97     230.0    13.80936   \n",
       "2    EWR  2013      1    1     2  37.94  21.92  52.09     230.0    12.65858   \n",
       "3    EWR  2013      1    1     3  37.94  23.00  54.51     230.0    13.80936   \n",
       "4    EWR  2013      1    1     4  37.94  24.08  57.04     240.0    14.96014   \n",
       "\n",
       "   wind_gust  precip  pressure  visib            time_hour  \n",
       "0  11.918651     0.0    1013.9   10.0  2013-01-01 01:00:00  \n",
       "1  15.891535     0.0    1013.0   10.0  2013-01-01 02:00:00  \n",
       "2  14.567241     0.0    1012.6   10.0  2013-01-01 03:00:00  \n",
       "3  15.891535     0.0    1012.7   10.0  2013-01-01 04:00:00  \n",
       "4  17.215830     0.0    1012.8   10.0  2013-01-01 05:00:00  "
      ]
     },
     "execution_count": 17,
     "metadata": {},
     "output_type": "execute_result"
    }
   ],
   "source": [
    "flight_data.head() #Visualizing that the data is read properly by displaying the first 5 rows"
   ]
  },
  {
   "cell_type": "code",
   "execution_count": 18,
   "id": "5912757b",
   "metadata": {},
   "outputs": [
    {
     "data": {
      "text/plain": [
       "(26130, 15)"
      ]
     },
     "execution_count": 18,
     "metadata": {},
     "output_type": "execute_result"
    }
   ],
   "source": [
    "flight_data.shape #Finding out the number of observations and variables in the dataset."
   ]
  },
  {
   "cell_type": "code",
   "execution_count": 19,
   "id": "dfaf3a25",
   "metadata": {},
   "outputs": [
    {
     "name": "stdout",
     "output_type": "stream",
     "text": [
      "The number of rows (observations) is 26130 \n",
      "The number of columns (variables) is 15\n"
     ]
    }
   ],
   "source": [
    "print('The number of rows (observations) is',flight_data.shape[0],'\\n''The number of columns (variables) is',flight_data.shape[1])"
   ]
  },
  {
   "cell_type": "markdown",
   "id": "2efb4a6e",
   "metadata": {},
   "source": [
    "<h style=\"height:1px; width:100%\">\n",
    "\n",
    "<h2 style=\"color:#1D3361\"> Step 3: Convert the observations to SI units [Derive the units using formula] </h2>"
   ]
  },
  {
   "cell_type": "markdown",
   "id": "1db2e2b0",
   "metadata": {},
   "source": [
    "<p style=\"color:#20568B; font-size:15px\";>\n",
    "Some of the units of measurements given in the data set are Farenheit, inches, miles per hour. These need to be converted into Celcius, millimeters and meters per second respectively. We will use the below converstion formulas to convert and replace the converted column values into the dataframe.</p>"
   ]
  },
  {
   "cell_type": "code",
   "execution_count": 20,
   "id": "9510f54d",
   "metadata": {},
   "outputs": [],
   "source": [
    "flight_df = flight_data.copy()"
   ]
  },
  {
   "cell_type": "code",
   "execution_count": 21,
   "id": "093cb899",
   "metadata": {},
   "outputs": [
    {
     "data": {
      "text/html": [
       "<div>\n",
       "<style scoped>\n",
       "    .dataframe tbody tr th:only-of-type {\n",
       "        vertical-align: middle;\n",
       "    }\n",
       "\n",
       "    .dataframe tbody tr th {\n",
       "        vertical-align: top;\n",
       "    }\n",
       "\n",
       "    .dataframe thead th {\n",
       "        text-align: right;\n",
       "    }\n",
       "</style>\n",
       "<table border=\"1\" class=\"dataframe\">\n",
       "  <thead>\n",
       "    <tr style=\"text-align: right;\">\n",
       "      <th></th>\n",
       "      <th>origin</th>\n",
       "      <th>year</th>\n",
       "      <th>month</th>\n",
       "      <th>day</th>\n",
       "      <th>hour</th>\n",
       "      <th>temp</th>\n",
       "      <th>dewp</th>\n",
       "      <th>humid</th>\n",
       "      <th>wind_dir</th>\n",
       "      <th>wind_speed</th>\n",
       "      <th>wind_gust</th>\n",
       "      <th>precip</th>\n",
       "      <th>pressure</th>\n",
       "      <th>visib</th>\n",
       "      <th>time_hour</th>\n",
       "    </tr>\n",
       "  </thead>\n",
       "  <tbody>\n",
       "    <tr>\n",
       "      <th>0</th>\n",
       "      <td>EWR</td>\n",
       "      <td>2013</td>\n",
       "      <td>1</td>\n",
       "      <td>1</td>\n",
       "      <td>0</td>\n",
       "      <td>37.04</td>\n",
       "      <td>21.92</td>\n",
       "      <td>53.97</td>\n",
       "      <td>230.0</td>\n",
       "      <td>10.35702</td>\n",
       "      <td>11.918651</td>\n",
       "      <td>0.0</td>\n",
       "      <td>1013.9</td>\n",
       "      <td>10.0</td>\n",
       "      <td>2013-01-01 01:00:00</td>\n",
       "    </tr>\n",
       "    <tr>\n",
       "      <th>1</th>\n",
       "      <td>EWR</td>\n",
       "      <td>2013</td>\n",
       "      <td>1</td>\n",
       "      <td>1</td>\n",
       "      <td>1</td>\n",
       "      <td>37.04</td>\n",
       "      <td>21.92</td>\n",
       "      <td>53.97</td>\n",
       "      <td>230.0</td>\n",
       "      <td>13.80936</td>\n",
       "      <td>15.891535</td>\n",
       "      <td>0.0</td>\n",
       "      <td>1013.0</td>\n",
       "      <td>10.0</td>\n",
       "      <td>2013-01-01 02:00:00</td>\n",
       "    </tr>\n",
       "    <tr>\n",
       "      <th>2</th>\n",
       "      <td>EWR</td>\n",
       "      <td>2013</td>\n",
       "      <td>1</td>\n",
       "      <td>1</td>\n",
       "      <td>2</td>\n",
       "      <td>37.94</td>\n",
       "      <td>21.92</td>\n",
       "      <td>52.09</td>\n",
       "      <td>230.0</td>\n",
       "      <td>12.65858</td>\n",
       "      <td>14.567241</td>\n",
       "      <td>0.0</td>\n",
       "      <td>1012.6</td>\n",
       "      <td>10.0</td>\n",
       "      <td>2013-01-01 03:00:00</td>\n",
       "    </tr>\n",
       "    <tr>\n",
       "      <th>3</th>\n",
       "      <td>EWR</td>\n",
       "      <td>2013</td>\n",
       "      <td>1</td>\n",
       "      <td>1</td>\n",
       "      <td>3</td>\n",
       "      <td>37.94</td>\n",
       "      <td>23.00</td>\n",
       "      <td>54.51</td>\n",
       "      <td>230.0</td>\n",
       "      <td>13.80936</td>\n",
       "      <td>15.891535</td>\n",
       "      <td>0.0</td>\n",
       "      <td>1012.7</td>\n",
       "      <td>10.0</td>\n",
       "      <td>2013-01-01 04:00:00</td>\n",
       "    </tr>\n",
       "    <tr>\n",
       "      <th>4</th>\n",
       "      <td>EWR</td>\n",
       "      <td>2013</td>\n",
       "      <td>1</td>\n",
       "      <td>1</td>\n",
       "      <td>4</td>\n",
       "      <td>37.94</td>\n",
       "      <td>24.08</td>\n",
       "      <td>57.04</td>\n",
       "      <td>240.0</td>\n",
       "      <td>14.96014</td>\n",
       "      <td>17.215830</td>\n",
       "      <td>0.0</td>\n",
       "      <td>1012.8</td>\n",
       "      <td>10.0</td>\n",
       "      <td>2013-01-01 05:00:00</td>\n",
       "    </tr>\n",
       "  </tbody>\n",
       "</table>\n",
       "</div>"
      ],
      "text/plain": [
       "  origin  year  month  day  hour   temp   dewp  humid  wind_dir  wind_speed  \\\n",
       "0    EWR  2013      1    1     0  37.04  21.92  53.97     230.0    10.35702   \n",
       "1    EWR  2013      1    1     1  37.04  21.92  53.97     230.0    13.80936   \n",
       "2    EWR  2013      1    1     2  37.94  21.92  52.09     230.0    12.65858   \n",
       "3    EWR  2013      1    1     3  37.94  23.00  54.51     230.0    13.80936   \n",
       "4    EWR  2013      1    1     4  37.94  24.08  57.04     240.0    14.96014   \n",
       "\n",
       "   wind_gust  precip  pressure  visib            time_hour  \n",
       "0  11.918651     0.0    1013.9   10.0  2013-01-01 01:00:00  \n",
       "1  15.891535     0.0    1013.0   10.0  2013-01-01 02:00:00  \n",
       "2  14.567241     0.0    1012.6   10.0  2013-01-01 03:00:00  \n",
       "3  15.891535     0.0    1012.7   10.0  2013-01-01 04:00:00  \n",
       "4  17.215830     0.0    1012.8   10.0  2013-01-01 05:00:00  "
      ]
     },
     "execution_count": 21,
     "metadata": {},
     "output_type": "execute_result"
    }
   ],
   "source": [
    "flight_df.head()"
   ]
  },
  {
   "cell_type": "code",
   "execution_count": 22,
   "id": "66408c2c",
   "metadata": {},
   "outputs": [],
   "source": [
    "#Converting the necessary columns into the SI system of units\n",
    "flight_df[\"temp\"] = (flight_df[\"temp\"] - 32) * 5/9 #Converting from Fahrenheit to Celsius\n",
    "flight_df[\"dewp\"] = (flight_df[\"dewp\"] - 32) * 5/9 #Converting from Fahrenheit to Celsius\n",
    "flight_df[\"precip\"] = flight_df[\"precip\"]* 25.4 #Converting from inches to millimeters\n",
    "flight_df[\"wind_speed\"] = flight_df[\"wind_speed\"]* 0.447 #Converting from mph to m/s\n",
    "flight_df[\"wind_gust\"] = flight_df[\"wind_gust\"]* 0.447 #Converting from mph to m/s\n",
    "flight_df[\"visib\"] = flight_df[\"visib\"]* 0.447 #Converting from mph to m/s"
   ]
  },
  {
   "cell_type": "code",
   "execution_count": 23,
   "id": "144cda33",
   "metadata": {},
   "outputs": [
    {
     "data": {
      "text/html": [
       "<div>\n",
       "<style scoped>\n",
       "    .dataframe tbody tr th:only-of-type {\n",
       "        vertical-align: middle;\n",
       "    }\n",
       "\n",
       "    .dataframe tbody tr th {\n",
       "        vertical-align: top;\n",
       "    }\n",
       "\n",
       "    .dataframe thead th {\n",
       "        text-align: right;\n",
       "    }\n",
       "</style>\n",
       "<table border=\"1\" class=\"dataframe\">\n",
       "  <thead>\n",
       "    <tr style=\"text-align: right;\">\n",
       "      <th></th>\n",
       "      <th>origin</th>\n",
       "      <th>year</th>\n",
       "      <th>month</th>\n",
       "      <th>day</th>\n",
       "      <th>hour</th>\n",
       "      <th>temp</th>\n",
       "      <th>dewp</th>\n",
       "      <th>humid</th>\n",
       "      <th>wind_dir</th>\n",
       "      <th>wind_speed</th>\n",
       "      <th>wind_gust</th>\n",
       "      <th>precip</th>\n",
       "      <th>pressure</th>\n",
       "      <th>visib</th>\n",
       "      <th>time_hour</th>\n",
       "    </tr>\n",
       "  </thead>\n",
       "  <tbody>\n",
       "    <tr>\n",
       "      <th>0</th>\n",
       "      <td>EWR</td>\n",
       "      <td>2013</td>\n",
       "      <td>1</td>\n",
       "      <td>1</td>\n",
       "      <td>0</td>\n",
       "      <td>2.8</td>\n",
       "      <td>-5.6</td>\n",
       "      <td>53.97</td>\n",
       "      <td>230.0</td>\n",
       "      <td>4.629588</td>\n",
       "      <td>5.327637</td>\n",
       "      <td>0.0</td>\n",
       "      <td>1013.9</td>\n",
       "      <td>4.47</td>\n",
       "      <td>2013-01-01 01:00:00</td>\n",
       "    </tr>\n",
       "    <tr>\n",
       "      <th>1</th>\n",
       "      <td>EWR</td>\n",
       "      <td>2013</td>\n",
       "      <td>1</td>\n",
       "      <td>1</td>\n",
       "      <td>1</td>\n",
       "      <td>2.8</td>\n",
       "      <td>-5.6</td>\n",
       "      <td>53.97</td>\n",
       "      <td>230.0</td>\n",
       "      <td>6.172784</td>\n",
       "      <td>7.103516</td>\n",
       "      <td>0.0</td>\n",
       "      <td>1013.0</td>\n",
       "      <td>4.47</td>\n",
       "      <td>2013-01-01 02:00:00</td>\n",
       "    </tr>\n",
       "    <tr>\n",
       "      <th>2</th>\n",
       "      <td>EWR</td>\n",
       "      <td>2013</td>\n",
       "      <td>1</td>\n",
       "      <td>1</td>\n",
       "      <td>2</td>\n",
       "      <td>3.3</td>\n",
       "      <td>-5.6</td>\n",
       "      <td>52.09</td>\n",
       "      <td>230.0</td>\n",
       "      <td>5.658385</td>\n",
       "      <td>6.511557</td>\n",
       "      <td>0.0</td>\n",
       "      <td>1012.6</td>\n",
       "      <td>4.47</td>\n",
       "      <td>2013-01-01 03:00:00</td>\n",
       "    </tr>\n",
       "    <tr>\n",
       "      <th>3</th>\n",
       "      <td>EWR</td>\n",
       "      <td>2013</td>\n",
       "      <td>1</td>\n",
       "      <td>1</td>\n",
       "      <td>3</td>\n",
       "      <td>3.3</td>\n",
       "      <td>-5.0</td>\n",
       "      <td>54.51</td>\n",
       "      <td>230.0</td>\n",
       "      <td>6.172784</td>\n",
       "      <td>7.103516</td>\n",
       "      <td>0.0</td>\n",
       "      <td>1012.7</td>\n",
       "      <td>4.47</td>\n",
       "      <td>2013-01-01 04:00:00</td>\n",
       "    </tr>\n",
       "    <tr>\n",
       "      <th>4</th>\n",
       "      <td>EWR</td>\n",
       "      <td>2013</td>\n",
       "      <td>1</td>\n",
       "      <td>1</td>\n",
       "      <td>4</td>\n",
       "      <td>3.3</td>\n",
       "      <td>-4.4</td>\n",
       "      <td>57.04</td>\n",
       "      <td>240.0</td>\n",
       "      <td>6.687183</td>\n",
       "      <td>7.695476</td>\n",
       "      <td>0.0</td>\n",
       "      <td>1012.8</td>\n",
       "      <td>4.47</td>\n",
       "      <td>2013-01-01 05:00:00</td>\n",
       "    </tr>\n",
       "  </tbody>\n",
       "</table>\n",
       "</div>"
      ],
      "text/plain": [
       "  origin  year  month  day  hour  temp  dewp  humid  wind_dir  wind_speed  \\\n",
       "0    EWR  2013      1    1     0   2.8  -5.6  53.97     230.0    4.629588   \n",
       "1    EWR  2013      1    1     1   2.8  -5.6  53.97     230.0    6.172784   \n",
       "2    EWR  2013      1    1     2   3.3  -5.6  52.09     230.0    5.658385   \n",
       "3    EWR  2013      1    1     3   3.3  -5.0  54.51     230.0    6.172784   \n",
       "4    EWR  2013      1    1     4   3.3  -4.4  57.04     240.0    6.687183   \n",
       "\n",
       "   wind_gust  precip  pressure  visib            time_hour  \n",
       "0   5.327637     0.0    1013.9   4.47  2013-01-01 01:00:00  \n",
       "1   7.103516     0.0    1013.0   4.47  2013-01-01 02:00:00  \n",
       "2   6.511557     0.0    1012.6   4.47  2013-01-01 03:00:00  \n",
       "3   7.103516     0.0    1012.7   4.47  2013-01-01 04:00:00  \n",
       "4   7.695476     0.0    1012.8   4.47  2013-01-01 05:00:00  "
      ]
     },
     "execution_count": 23,
     "metadata": {},
     "output_type": "execute_result"
    }
   ],
   "source": [
    "flight_df.head() #Visualizing the dataframe with the converted values on temp, dewp, precip, wind_speed, wind_gust and visib"
   ]
  },
  {
   "cell_type": "markdown",
   "id": "b572c209",
   "metadata": {},
   "source": [
    "<h style=\"height:1px; width:100%\">\n",
    "\n",
    "<h2 style=\"color:#1D3361\"> Step 4: Shifting the time_hour by 1 hour back to rectify the bug </h2>"
   ]
  },
  {
   "cell_type": "markdown",
   "id": "9f76ac79",
   "metadata": {},
   "source": [
    "<p style=\"color:#20568B; font-size:15px\";>\n",
    "The question stated that there is a bug in the dataset where, the data in the time_hour column is not captured properly.The time is shifted ahead by 1 hour. Therefore to rectify this bug we need to shift back the timestamp back by 1 hour.</p>"
   ]
  },
  {
   "cell_type": "code",
   "execution_count": 24,
   "id": "d09dd645",
   "metadata": {},
   "outputs": [],
   "source": [
    "# Convert time_hour column to datetime and subtract 1 hour\n",
    "flight_df[\"time_hour\"] = pd.to_datetime(flight_df[\"time_hour\"]) - pd.Timedelta(hours=1)"
   ]
  },
  {
   "cell_type": "code",
   "execution_count": 25,
   "id": "2ac66855",
   "metadata": {},
   "outputs": [
    {
     "data": {
      "text/html": [
       "<div>\n",
       "<style scoped>\n",
       "    .dataframe tbody tr th:only-of-type {\n",
       "        vertical-align: middle;\n",
       "    }\n",
       "\n",
       "    .dataframe tbody tr th {\n",
       "        vertical-align: top;\n",
       "    }\n",
       "\n",
       "    .dataframe thead th {\n",
       "        text-align: right;\n",
       "    }\n",
       "</style>\n",
       "<table border=\"1\" class=\"dataframe\">\n",
       "  <thead>\n",
       "    <tr style=\"text-align: right;\">\n",
       "      <th></th>\n",
       "      <th>origin</th>\n",
       "      <th>year</th>\n",
       "      <th>month</th>\n",
       "      <th>day</th>\n",
       "      <th>hour</th>\n",
       "      <th>temp</th>\n",
       "      <th>dewp</th>\n",
       "      <th>humid</th>\n",
       "      <th>wind_dir</th>\n",
       "      <th>wind_speed</th>\n",
       "      <th>wind_gust</th>\n",
       "      <th>precip</th>\n",
       "      <th>pressure</th>\n",
       "      <th>visib</th>\n",
       "      <th>time_hour</th>\n",
       "    </tr>\n",
       "  </thead>\n",
       "  <tbody>\n",
       "    <tr>\n",
       "      <th>0</th>\n",
       "      <td>EWR</td>\n",
       "      <td>2013</td>\n",
       "      <td>1</td>\n",
       "      <td>1</td>\n",
       "      <td>0</td>\n",
       "      <td>2.8</td>\n",
       "      <td>-5.6</td>\n",
       "      <td>53.97</td>\n",
       "      <td>230.0</td>\n",
       "      <td>4.629588</td>\n",
       "      <td>5.327637</td>\n",
       "      <td>0.0</td>\n",
       "      <td>1013.9</td>\n",
       "      <td>4.47</td>\n",
       "      <td>2013-01-01 00:00:00</td>\n",
       "    </tr>\n",
       "    <tr>\n",
       "      <th>1</th>\n",
       "      <td>EWR</td>\n",
       "      <td>2013</td>\n",
       "      <td>1</td>\n",
       "      <td>1</td>\n",
       "      <td>1</td>\n",
       "      <td>2.8</td>\n",
       "      <td>-5.6</td>\n",
       "      <td>53.97</td>\n",
       "      <td>230.0</td>\n",
       "      <td>6.172784</td>\n",
       "      <td>7.103516</td>\n",
       "      <td>0.0</td>\n",
       "      <td>1013.0</td>\n",
       "      <td>4.47</td>\n",
       "      <td>2013-01-01 01:00:00</td>\n",
       "    </tr>\n",
       "    <tr>\n",
       "      <th>2</th>\n",
       "      <td>EWR</td>\n",
       "      <td>2013</td>\n",
       "      <td>1</td>\n",
       "      <td>1</td>\n",
       "      <td>2</td>\n",
       "      <td>3.3</td>\n",
       "      <td>-5.6</td>\n",
       "      <td>52.09</td>\n",
       "      <td>230.0</td>\n",
       "      <td>5.658385</td>\n",
       "      <td>6.511557</td>\n",
       "      <td>0.0</td>\n",
       "      <td>1012.6</td>\n",
       "      <td>4.47</td>\n",
       "      <td>2013-01-01 02:00:00</td>\n",
       "    </tr>\n",
       "    <tr>\n",
       "      <th>3</th>\n",
       "      <td>EWR</td>\n",
       "      <td>2013</td>\n",
       "      <td>1</td>\n",
       "      <td>1</td>\n",
       "      <td>3</td>\n",
       "      <td>3.3</td>\n",
       "      <td>-5.0</td>\n",
       "      <td>54.51</td>\n",
       "      <td>230.0</td>\n",
       "      <td>6.172784</td>\n",
       "      <td>7.103516</td>\n",
       "      <td>0.0</td>\n",
       "      <td>1012.7</td>\n",
       "      <td>4.47</td>\n",
       "      <td>2013-01-01 03:00:00</td>\n",
       "    </tr>\n",
       "    <tr>\n",
       "      <th>4</th>\n",
       "      <td>EWR</td>\n",
       "      <td>2013</td>\n",
       "      <td>1</td>\n",
       "      <td>1</td>\n",
       "      <td>4</td>\n",
       "      <td>3.3</td>\n",
       "      <td>-4.4</td>\n",
       "      <td>57.04</td>\n",
       "      <td>240.0</td>\n",
       "      <td>6.687183</td>\n",
       "      <td>7.695476</td>\n",
       "      <td>0.0</td>\n",
       "      <td>1012.8</td>\n",
       "      <td>4.47</td>\n",
       "      <td>2013-01-01 04:00:00</td>\n",
       "    </tr>\n",
       "  </tbody>\n",
       "</table>\n",
       "</div>"
      ],
      "text/plain": [
       "  origin  year  month  day  hour  temp  dewp  humid  wind_dir  wind_speed  \\\n",
       "0    EWR  2013      1    1     0   2.8  -5.6  53.97     230.0    4.629588   \n",
       "1    EWR  2013      1    1     1   2.8  -5.6  53.97     230.0    6.172784   \n",
       "2    EWR  2013      1    1     2   3.3  -5.6  52.09     230.0    5.658385   \n",
       "3    EWR  2013      1    1     3   3.3  -5.0  54.51     230.0    6.172784   \n",
       "4    EWR  2013      1    1     4   3.3  -4.4  57.04     240.0    6.687183   \n",
       "\n",
       "   wind_gust  precip  pressure  visib           time_hour  \n",
       "0   5.327637     0.0    1013.9   4.47 2013-01-01 00:00:00  \n",
       "1   7.103516     0.0    1013.0   4.47 2013-01-01 01:00:00  \n",
       "2   6.511557     0.0    1012.6   4.47 2013-01-01 02:00:00  \n",
       "3   7.103516     0.0    1012.7   4.47 2013-01-01 03:00:00  \n",
       "4   7.695476     0.0    1012.8   4.47 2013-01-01 04:00:00  "
      ]
     },
     "execution_count": 25,
     "metadata": {},
     "output_type": "execute_result"
    }
   ],
   "source": [
    "flight_df.head() #Visualizing the rectified dataframe"
   ]
  },
  {
   "cell_type": "markdown",
   "id": "99339457",
   "metadata": {},
   "source": [
    "<h2 style=\"color:#1D3361\"> EDA </h2>"
   ]
  },
  {
   "cell_type": "code",
   "execution_count": 26,
   "id": "9202e9fa",
   "metadata": {},
   "outputs": [
    {
     "name": "stdout",
     "output_type": "stream",
     "text": [
      "Number of duplicate rows = 0\n"
     ]
    }
   ],
   "source": [
    "#Checking for duplicates\n",
    "is_duplicate = flight_df.duplicated() #Checking to see if there are any duplicate rows in the dataset\n",
    "print('Number of duplicate rows = %d' % (is_duplicate.sum()))"
   ]
  },
  {
   "cell_type": "markdown",
   "id": "b5f072aa",
   "metadata": {},
   "source": [
    "#### There are no duplicate rows"
   ]
  },
  {
   "cell_type": "markdown",
   "id": "7f80bb02",
   "metadata": {},
   "source": [
    "#### EDA - 5 Number Summary of all the numeric variables ( data types of integer and float values)"
   ]
  },
  {
   "cell_type": "code",
   "execution_count": 27,
   "id": "f07329ee",
   "metadata": {},
   "outputs": [
    {
     "data": {
      "text/html": [
       "<div>\n",
       "<style scoped>\n",
       "    .dataframe tbody tr th:only-of-type {\n",
       "        vertical-align: middle;\n",
       "    }\n",
       "\n",
       "    .dataframe tbody tr th {\n",
       "        vertical-align: top;\n",
       "    }\n",
       "\n",
       "    .dataframe thead th {\n",
       "        text-align: right;\n",
       "    }\n",
       "</style>\n",
       "<table border=\"1\" class=\"dataframe\">\n",
       "  <thead>\n",
       "    <tr style=\"text-align: right;\">\n",
       "      <th></th>\n",
       "      <th>count</th>\n",
       "      <th>mean</th>\n",
       "      <th>std</th>\n",
       "      <th>min</th>\n",
       "      <th>25%</th>\n",
       "      <th>50%</th>\n",
       "      <th>75%</th>\n",
       "      <th>max</th>\n",
       "    </tr>\n",
       "  </thead>\n",
       "  <tbody>\n",
       "    <tr>\n",
       "      <th>year</th>\n",
       "      <td>26130.0</td>\n",
       "      <td>2013.000000</td>\n",
       "      <td>0.000000</td>\n",
       "      <td>2013.00</td>\n",
       "      <td>2013.000000</td>\n",
       "      <td>2013.000000</td>\n",
       "      <td>2013.000000</td>\n",
       "      <td>2013.000000</td>\n",
       "    </tr>\n",
       "    <tr>\n",
       "      <th>month</th>\n",
       "      <td>26130.0</td>\n",
       "      <td>6.505741</td>\n",
       "      <td>3.440031</td>\n",
       "      <td>1.00</td>\n",
       "      <td>4.000000</td>\n",
       "      <td>7.000000</td>\n",
       "      <td>9.000000</td>\n",
       "      <td>12.000000</td>\n",
       "    </tr>\n",
       "    <tr>\n",
       "      <th>day</th>\n",
       "      <td>26130.0</td>\n",
       "      <td>15.679717</td>\n",
       "      <td>8.765022</td>\n",
       "      <td>1.00</td>\n",
       "      <td>8.000000</td>\n",
       "      <td>16.000000</td>\n",
       "      <td>23.000000</td>\n",
       "      <td>31.000000</td>\n",
       "    </tr>\n",
       "    <tr>\n",
       "      <th>hour</th>\n",
       "      <td>26130.0</td>\n",
       "      <td>11.518408</td>\n",
       "      <td>6.916581</td>\n",
       "      <td>0.00</td>\n",
       "      <td>6.000000</td>\n",
       "      <td>12.000000</td>\n",
       "      <td>18.000000</td>\n",
       "      <td>23.000000</td>\n",
       "    </tr>\n",
       "    <tr>\n",
       "      <th>temp</th>\n",
       "      <td>26129.0</td>\n",
       "      <td>12.890842</td>\n",
       "      <td>9.878958</td>\n",
       "      <td>-11.70</td>\n",
       "      <td>4.400000</td>\n",
       "      <td>12.800000</td>\n",
       "      <td>21.100000</td>\n",
       "      <td>37.800000</td>\n",
       "    </tr>\n",
       "    <tr>\n",
       "      <th>dewp</th>\n",
       "      <td>26129.0</td>\n",
       "      <td>5.214111</td>\n",
       "      <td>10.762027</td>\n",
       "      <td>-23.30</td>\n",
       "      <td>-3.300000</td>\n",
       "      <td>5.600000</td>\n",
       "      <td>14.400000</td>\n",
       "      <td>25.600000</td>\n",
       "    </tr>\n",
       "    <tr>\n",
       "      <th>humid</th>\n",
       "      <td>26129.0</td>\n",
       "      <td>62.347322</td>\n",
       "      <td>19.196078</td>\n",
       "      <td>12.74</td>\n",
       "      <td>46.990000</td>\n",
       "      <td>61.660000</td>\n",
       "      <td>78.620000</td>\n",
       "      <td>100.000000</td>\n",
       "    </tr>\n",
       "    <tr>\n",
       "      <th>wind_dir</th>\n",
       "      <td>25712.0</td>\n",
       "      <td>198.066661</td>\n",
       "      <td>107.841624</td>\n",
       "      <td>0.00</td>\n",
       "      <td>120.000000</td>\n",
       "      <td>220.000000</td>\n",
       "      <td>290.000000</td>\n",
       "      <td>360.000000</td>\n",
       "    </tr>\n",
       "    <tr>\n",
       "      <th>wind_speed</th>\n",
       "      <td>26127.0</td>\n",
       "      <td>4.646953</td>\n",
       "      <td>3.808976</td>\n",
       "      <td>0.00</td>\n",
       "      <td>3.086392</td>\n",
       "      <td>4.115189</td>\n",
       "      <td>6.172784</td>\n",
       "      <td>468.617179</td>\n",
       "    </tr>\n",
       "    <tr>\n",
       "      <th>wind_gust</th>\n",
       "      <td>26127.0</td>\n",
       "      <td>5.347621</td>\n",
       "      <td>4.383294</td>\n",
       "      <td>0.00</td>\n",
       "      <td>3.551758</td>\n",
       "      <td>4.735678</td>\n",
       "      <td>7.103516</td>\n",
       "      <td>539.275278</td>\n",
       "    </tr>\n",
       "    <tr>\n",
       "      <th>precip</th>\n",
       "      <td>26130.0</td>\n",
       "      <td>0.069250</td>\n",
       "      <td>0.499485</td>\n",
       "      <td>0.00</td>\n",
       "      <td>0.000000</td>\n",
       "      <td>0.000000</td>\n",
       "      <td>0.000000</td>\n",
       "      <td>29.972000</td>\n",
       "    </tr>\n",
       "    <tr>\n",
       "      <th>pressure</th>\n",
       "      <td>23400.0</td>\n",
       "      <td>1017.895175</td>\n",
       "      <td>7.422790</td>\n",
       "      <td>983.80</td>\n",
       "      <td>1012.900000</td>\n",
       "      <td>1017.600000</td>\n",
       "      <td>1023.000000</td>\n",
       "      <td>1042.100000</td>\n",
       "    </tr>\n",
       "    <tr>\n",
       "      <th>visib</th>\n",
       "      <td>26130.0</td>\n",
       "      <td>4.114558</td>\n",
       "      <td>0.954929</td>\n",
       "      <td>0.00</td>\n",
       "      <td>4.470000</td>\n",
       "      <td>4.470000</td>\n",
       "      <td>4.470000</td>\n",
       "      <td>4.470000</td>\n",
       "    </tr>\n",
       "  </tbody>\n",
       "</table>\n",
       "</div>"
      ],
      "text/plain": [
       "              count         mean         std      min          25%  \\\n",
       "year        26130.0  2013.000000    0.000000  2013.00  2013.000000   \n",
       "month       26130.0     6.505741    3.440031     1.00     4.000000   \n",
       "day         26130.0    15.679717    8.765022     1.00     8.000000   \n",
       "hour        26130.0    11.518408    6.916581     0.00     6.000000   \n",
       "temp        26129.0    12.890842    9.878958   -11.70     4.400000   \n",
       "dewp        26129.0     5.214111   10.762027   -23.30    -3.300000   \n",
       "humid       26129.0    62.347322   19.196078    12.74    46.990000   \n",
       "wind_dir    25712.0   198.066661  107.841624     0.00   120.000000   \n",
       "wind_speed  26127.0     4.646953    3.808976     0.00     3.086392   \n",
       "wind_gust   26127.0     5.347621    4.383294     0.00     3.551758   \n",
       "precip      26130.0     0.069250    0.499485     0.00     0.000000   \n",
       "pressure    23400.0  1017.895175    7.422790   983.80  1012.900000   \n",
       "visib       26130.0     4.114558    0.954929     0.00     4.470000   \n",
       "\n",
       "                    50%          75%          max  \n",
       "year        2013.000000  2013.000000  2013.000000  \n",
       "month          7.000000     9.000000    12.000000  \n",
       "day           16.000000    23.000000    31.000000  \n",
       "hour          12.000000    18.000000    23.000000  \n",
       "temp          12.800000    21.100000    37.800000  \n",
       "dewp           5.600000    14.400000    25.600000  \n",
       "humid         61.660000    78.620000   100.000000  \n",
       "wind_dir     220.000000   290.000000   360.000000  \n",
       "wind_speed     4.115189     6.172784   468.617179  \n",
       "wind_gust      4.735678     7.103516   539.275278  \n",
       "precip         0.000000     0.000000    29.972000  \n",
       "pressure    1017.600000  1023.000000  1042.100000  \n",
       "visib          4.470000     4.470000     4.470000  "
      ]
     },
     "execution_count": 27,
     "metadata": {},
     "output_type": "execute_result"
    }
   ],
   "source": [
    "flight_df.describe().T"
   ]
  },
  {
   "cell_type": "code",
   "execution_count": 28,
   "id": "7d389b5b",
   "metadata": {},
   "outputs": [
    {
     "data": {
      "text/html": [
       "<div>\n",
       "<style scoped>\n",
       "    .dataframe tbody tr th:only-of-type {\n",
       "        vertical-align: middle;\n",
       "    }\n",
       "\n",
       "    .dataframe tbody tr th {\n",
       "        vertical-align: top;\n",
       "    }\n",
       "\n",
       "    .dataframe thead th {\n",
       "        text-align: right;\n",
       "    }\n",
       "</style>\n",
       "<table border=\"1\" class=\"dataframe\">\n",
       "  <thead>\n",
       "    <tr style=\"text-align: right;\">\n",
       "      <th></th>\n",
       "      <th>Features</th>\n",
       "      <th>Missing count</th>\n",
       "      <th>% missing</th>\n",
       "    </tr>\n",
       "  </thead>\n",
       "  <tbody>\n",
       "    <tr>\n",
       "      <th>0</th>\n",
       "      <td>origin</td>\n",
       "      <td>0</td>\n",
       "      <td>0.00</td>\n",
       "    </tr>\n",
       "    <tr>\n",
       "      <th>1</th>\n",
       "      <td>year</td>\n",
       "      <td>0</td>\n",
       "      <td>0.00</td>\n",
       "    </tr>\n",
       "    <tr>\n",
       "      <th>2</th>\n",
       "      <td>month</td>\n",
       "      <td>0</td>\n",
       "      <td>0.00</td>\n",
       "    </tr>\n",
       "    <tr>\n",
       "      <th>3</th>\n",
       "      <td>day</td>\n",
       "      <td>0</td>\n",
       "      <td>0.00</td>\n",
       "    </tr>\n",
       "    <tr>\n",
       "      <th>4</th>\n",
       "      <td>hour</td>\n",
       "      <td>0</td>\n",
       "      <td>0.00</td>\n",
       "    </tr>\n",
       "    <tr>\n",
       "      <th>5</th>\n",
       "      <td>temp</td>\n",
       "      <td>1</td>\n",
       "      <td>0.00</td>\n",
       "    </tr>\n",
       "    <tr>\n",
       "      <th>6</th>\n",
       "      <td>dewp</td>\n",
       "      <td>1</td>\n",
       "      <td>0.00</td>\n",
       "    </tr>\n",
       "    <tr>\n",
       "      <th>7</th>\n",
       "      <td>humid</td>\n",
       "      <td>1</td>\n",
       "      <td>0.00</td>\n",
       "    </tr>\n",
       "    <tr>\n",
       "      <th>8</th>\n",
       "      <td>wind_dir</td>\n",
       "      <td>418</td>\n",
       "      <td>1.60</td>\n",
       "    </tr>\n",
       "    <tr>\n",
       "      <th>9</th>\n",
       "      <td>wind_speed</td>\n",
       "      <td>3</td>\n",
       "      <td>0.01</td>\n",
       "    </tr>\n",
       "    <tr>\n",
       "      <th>10</th>\n",
       "      <td>wind_gust</td>\n",
       "      <td>3</td>\n",
       "      <td>0.01</td>\n",
       "    </tr>\n",
       "    <tr>\n",
       "      <th>11</th>\n",
       "      <td>precip</td>\n",
       "      <td>0</td>\n",
       "      <td>0.00</td>\n",
       "    </tr>\n",
       "    <tr>\n",
       "      <th>12</th>\n",
       "      <td>pressure</td>\n",
       "      <td>2730</td>\n",
       "      <td>10.45</td>\n",
       "    </tr>\n",
       "    <tr>\n",
       "      <th>13</th>\n",
       "      <td>visib</td>\n",
       "      <td>0</td>\n",
       "      <td>0.00</td>\n",
       "    </tr>\n",
       "    <tr>\n",
       "      <th>14</th>\n",
       "      <td>time_hour</td>\n",
       "      <td>0</td>\n",
       "      <td>0.00</td>\n",
       "    </tr>\n",
       "  </tbody>\n",
       "</table>\n",
       "</div>"
      ],
      "text/plain": [
       "      Features  Missing count  % missing\n",
       "0       origin              0       0.00\n",
       "1         year              0       0.00\n",
       "2        month              0       0.00\n",
       "3          day              0       0.00\n",
       "4         hour              0       0.00\n",
       "5         temp              1       0.00\n",
       "6         dewp              1       0.00\n",
       "7        humid              1       0.00\n",
       "8     wind_dir            418       1.60\n",
       "9   wind_speed              3       0.01\n",
       "10   wind_gust              3       0.01\n",
       "11      precip              0       0.00\n",
       "12    pressure           2730      10.45\n",
       "13       visib              0       0.00\n",
       "14   time_hour              0       0.00"
      ]
     },
     "execution_count": 28,
     "metadata": {},
     "output_type": "execute_result"
    }
   ],
   "source": [
    "#Missing Value Analysis\n",
    "missing_values=pd.DataFrame(flight_df.isna().sum().reset_index())\n",
    "missing_values.columns = ['Features','Missing count']\n",
    "missing_values['% missing']= round(missing_values['Missing count'] / flight_df.shape[0] * 100.00,2)\n",
    "missing_values"
   ]
  },
  {
   "cell_type": "markdown",
   "id": "4bc5452b",
   "metadata": {},
   "source": [
    "#### We can see that two columns, wind_dir (which is wind direction) and pressure have missing values\n"
   ]
  },
  {
   "cell_type": "code",
   "execution_count": 38,
   "id": "23c4d91a",
   "metadata": {},
   "outputs": [
    {
     "name": "stdout",
     "output_type": "stream",
     "text": [
      "The categorical features are ['origin']\n",
      "The numeric features are ['year', 'month', 'day', 'hour', 'temp', 'dewp', 'humid', 'wind_dir', 'wind_speed', 'wind_gust', 'precip', 'pressure', 'visib', 'time_hour']\n"
     ]
    }
   ],
   "source": [
    "categorical_features=[]\n",
    "numerical_features=[]\n",
    "for i in flight_df.columns:\n",
    "    if flight_df[i].dtype==\"object\":\n",
    "        categorical_features.append(i)\n",
    "    else:\n",
    "        numerical_features.append(i)\n",
    "print(\"The categorical features are\", categorical_features) \n",
    "print(\"The numeric features are\", numerical_features)"
   ]
  },
  {
   "cell_type": "code",
   "execution_count": 40,
   "id": "48114ff5",
   "metadata": {},
   "outputs": [
    {
     "name": "stdout",
     "output_type": "stream",
     "text": [
      "ORIGIN :  3\n",
      "EWR    8708\n",
      "JFK    8711\n",
      "LGA    8711\n",
      "Name: origin, dtype: int64\n",
      "\n",
      "\n"
     ]
    }
   ],
   "source": [
    "#Unique values in each of the columns of Object Datatype and the number of observations \n",
    "#These are categorical variables\n",
    "for column in flight_df.columns:\n",
    "    if flight_df[column].dtype == 'object':\n",
    "        print(column.upper(),': ',flight_df[column].nunique())\n",
    "        print(flight_df[column].value_counts().sort_values())\n",
    "        print('\\n')"
   ]
  },
  {
   "cell_type": "code",
   "execution_count": 42,
   "id": "63891d94",
   "metadata": {},
   "outputs": [
    {
     "data": {
      "image/png": "[encoded data removed]",
      "text/plain": [
       "<Figure size 700x700 with 1 Axes>"
      ]
     },
     "metadata": {},
     "output_type": "display_data"
    }
   ],
   "source": [
    "#Visual Representation of Categorical Variables in the dataset\n",
    "#Origin\n",
    "plot1 = pd.DataFrame(flight_df['origin'].value_counts())\n",
    "plot1 = plot1.reset_index()\n",
    "plot1.columns = [\"origin\",\"COUNT\"]\n",
    "fig_dims = (7, 7)\n",
    "fig,ax = plt.subplots(figsize=fig_dims)\n",
    "sns.barplot(x='origin',y='COUNT',ax=ax,data=plot1,palette=\"Oranges_r\")\n",
    "for z in ax.patches:\n",
    "    ax.annotate(format(z.get_height(), '.0f'), (z.get_x() + z.get_width() / 2., z.get_height()), \n",
    "       ha = 'center', va = 'center', xytext = (0, 10), textcoords = 'offset points')\n",
    "plt.show()"
   ]
  },
  {
   "cell_type": "code",
   "execution_count": 46,
   "id": "6c964163",
   "metadata": {},
   "outputs": [
    {
     "data": {
      "image/png": "[encoded data removed]",
      "text/plain": [
       "<Figure size 1500x1500 with 14 Axes>"
      ]
     },
     "metadata": {},
     "output_type": "display_data"
    }
   ],
   "source": [
    "plt.figure(figsize = (15,15))\n",
    "feature_list = numerical_features\n",
    "for i in range(len(feature_list)):\n",
    "    plt.subplot(7, 2, i + 1)\n",
    "    sns.histplot(x = flight_df[feature_list[i]], data = flight_df,color=\"red\",kde=True)\n",
    "    plt.title('Histplot of {}'.format(feature_list[i]))\n",
    "    plt.tight_layout()"
   ]
  },
  {
   "cell_type": "markdown",
   "id": "24f2155f",
   "metadata": {},
   "source": [
    "<h style=\"height:1px; width:100%\">\n",
    "\n",
    "<h2 style=\"color:#1D3361\"> Step 5: Computing the daily mean wind speeds for LGA airport </h2>"
   ]
  },
  {
   "cell_type": "markdown",
   "id": "de2fed40",
   "metadata": {},
   "source": [
    "<p style=\"color:#20568B; font-size:15px\";>\n",
    "In this step we will look at how we will compute the mean wind speed of LGA airport alone. The mean wind speed should be grouped by year, month and day.</p>\n",
    "\n",
    "* First from the entire dataset, we will filter out the LGA subset into a new dataframe.\n",
    "* Next we will group the subset by year, month and day and then calculate the mean.\n",
    "* We will then get a data Series which will be then converted into a dataframe and the index is reset.\n",
    "* The subset with mean calcuated has 364 observations and 4 columns.\n",
    "* A new date column is then added to the exiting dataset that combines the year, month and day and using the to_datetime function."
   ]
  },
  {
   "cell_type": "markdown",
   "id": "5e5037b8",
   "metadata": {},
   "source": [
    "### LGA AIRPORT"
   ]
  },
  {
   "cell_type": "code",
   "execution_count": 48,
   "id": "cea41d52",
   "metadata": {},
   "outputs": [],
   "source": [
    "# Filtering data for LGA airport\n",
    "lga_df = flight_df[flight_df['origin'] == 'LGA']"
   ]
  },
  {
   "cell_type": "code",
   "execution_count": 49,
   "id": "1872684e",
   "metadata": {},
   "outputs": [],
   "source": [
    "# Group by year, month, and day and compute mean wind speed\n",
    "lga_daily_wind_speed_mean = lga_df.groupby(['year', 'month', 'day'])['wind_speed'].mean()"
   ]
  },
  {
   "cell_type": "code",
   "execution_count": 50,
   "id": "95c4a6df",
   "metadata": {},
   "outputs": [
    {
     "data": {
      "text/plain": [
       "year  month  day\n",
       "2013  1      1      6.687183\n",
       "             2      6.429983\n",
       "             3      4.908221\n",
       "             4      6.880082\n",
       "             5      5.143987\n",
       "                      ...   \n",
       "      12     26     3.300725\n",
       "             27     5.401186\n",
       "             28     4.672454\n",
       "             29     3.793690\n",
       "             30     6.001318\n",
       "Name: wind_speed, Length: 364, dtype: float64"
      ]
     },
     "execution_count": 50,
     "metadata": {},
     "output_type": "execute_result"
    }
   ],
   "source": [
    "lga_daily_wind_speed_mean"
   ]
  },
  {
   "cell_type": "code",
   "execution_count": 51,
   "id": "a5d78dca",
   "metadata": {},
   "outputs": [
    {
     "data": {
      "text/plain": [
       "(364,)"
      ]
     },
     "execution_count": 51,
     "metadata": {},
     "output_type": "execute_result"
    }
   ],
   "source": [
    "lga_daily_wind_speed_mean.shape"
   ]
  },
  {
   "cell_type": "code",
   "execution_count": 52,
   "id": "92e0934c",
   "metadata": {},
   "outputs": [],
   "source": [
    "#Transforming the Series into a Data Frame\n",
    "mean_df_lga = lga_daily_wind_speed_mean.to_frame().reset_index()"
   ]
  },
  {
   "cell_type": "code",
   "execution_count": 53,
   "id": "494af57c",
   "metadata": {},
   "outputs": [
    {
     "data": {
      "text/plain": [
       "(364, 4)"
      ]
     },
     "execution_count": 53,
     "metadata": {},
     "output_type": "execute_result"
    }
   ],
   "source": [
    "mean_df_lga.shape"
   ]
  },
  {
   "cell_type": "code",
   "execution_count": 54,
   "id": "839f2916",
   "metadata": {},
   "outputs": [
    {
     "data": {
      "text/html": [
       "<div>\n",
       "<style scoped>\n",
       "    .dataframe tbody tr th:only-of-type {\n",
       "        vertical-align: middle;\n",
       "    }\n",
       "\n",
       "    .dataframe tbody tr th {\n",
       "        vertical-align: top;\n",
       "    }\n",
       "\n",
       "    .dataframe thead th {\n",
       "        text-align: right;\n",
       "    }\n",
       "</style>\n",
       "<table border=\"1\" class=\"dataframe\">\n",
       "  <thead>\n",
       "    <tr style=\"text-align: right;\">\n",
       "      <th></th>\n",
       "      <th>year</th>\n",
       "      <th>month</th>\n",
       "      <th>day</th>\n",
       "      <th>wind_speed</th>\n",
       "    </tr>\n",
       "  </thead>\n",
       "  <tbody>\n",
       "    <tr>\n",
       "      <th>0</th>\n",
       "      <td>2013</td>\n",
       "      <td>1</td>\n",
       "      <td>1</td>\n",
       "      <td>6.687183</td>\n",
       "    </tr>\n",
       "    <tr>\n",
       "      <th>1</th>\n",
       "      <td>2013</td>\n",
       "      <td>1</td>\n",
       "      <td>2</td>\n",
       "      <td>6.429983</td>\n",
       "    </tr>\n",
       "    <tr>\n",
       "      <th>2</th>\n",
       "      <td>2013</td>\n",
       "      <td>1</td>\n",
       "      <td>3</td>\n",
       "      <td>4.908221</td>\n",
       "    </tr>\n",
       "    <tr>\n",
       "      <th>3</th>\n",
       "      <td>2013</td>\n",
       "      <td>1</td>\n",
       "      <td>4</td>\n",
       "      <td>6.880082</td>\n",
       "    </tr>\n",
       "    <tr>\n",
       "      <th>4</th>\n",
       "      <td>2013</td>\n",
       "      <td>1</td>\n",
       "      <td>5</td>\n",
       "      <td>5.143987</td>\n",
       "    </tr>\n",
       "    <tr>\n",
       "      <th>...</th>\n",
       "      <td>...</td>\n",
       "      <td>...</td>\n",
       "      <td>...</td>\n",
       "      <td>...</td>\n",
       "    </tr>\n",
       "    <tr>\n",
       "      <th>359</th>\n",
       "      <td>2013</td>\n",
       "      <td>12</td>\n",
       "      <td>26</td>\n",
       "      <td>3.300725</td>\n",
       "    </tr>\n",
       "    <tr>\n",
       "      <th>360</th>\n",
       "      <td>2013</td>\n",
       "      <td>12</td>\n",
       "      <td>27</td>\n",
       "      <td>5.401186</td>\n",
       "    </tr>\n",
       "    <tr>\n",
       "      <th>361</th>\n",
       "      <td>2013</td>\n",
       "      <td>12</td>\n",
       "      <td>28</td>\n",
       "      <td>4.672454</td>\n",
       "    </tr>\n",
       "    <tr>\n",
       "      <th>362</th>\n",
       "      <td>2013</td>\n",
       "      <td>12</td>\n",
       "      <td>29</td>\n",
       "      <td>3.793690</td>\n",
       "    </tr>\n",
       "    <tr>\n",
       "      <th>363</th>\n",
       "      <td>2013</td>\n",
       "      <td>12</td>\n",
       "      <td>30</td>\n",
       "      <td>6.001318</td>\n",
       "    </tr>\n",
       "  </tbody>\n",
       "</table>\n",
       "<p>364 rows × 4 columns</p>\n",
       "</div>"
      ],
      "text/plain": [
       "     year  month  day  wind_speed\n",
       "0    2013      1    1    6.687183\n",
       "1    2013      1    2    6.429983\n",
       "2    2013      1    3    4.908221\n",
       "3    2013      1    4    6.880082\n",
       "4    2013      1    5    5.143987\n",
       "..    ...    ...  ...         ...\n",
       "359  2013     12   26    3.300725\n",
       "360  2013     12   27    5.401186\n",
       "361  2013     12   28    4.672454\n",
       "362  2013     12   29    3.793690\n",
       "363  2013     12   30    6.001318\n",
       "\n",
       "[364 rows x 4 columns]"
      ]
     },
     "execution_count": 54,
     "metadata": {},
     "output_type": "execute_result"
    }
   ],
   "source": [
    "mean_df_lga"
   ]
  },
  {
   "cell_type": "code",
   "execution_count": 55,
   "id": "7cd347b0",
   "metadata": {},
   "outputs": [],
   "source": [
    "# Create a new column 'date' for plotting\n",
    "mean_df_lga['date'] = pd.to_datetime(mean_df_lga[['year', 'month', 'day']])"
   ]
  },
  {
   "cell_type": "code",
   "execution_count": 56,
   "id": "a42ffa61",
   "metadata": {},
   "outputs": [
    {
     "data": {
      "text/html": [
       "<div>\n",
       "<style scoped>\n",
       "    .dataframe tbody tr th:only-of-type {\n",
       "        vertical-align: middle;\n",
       "    }\n",
       "\n",
       "    .dataframe tbody tr th {\n",
       "        vertical-align: top;\n",
       "    }\n",
       "\n",
       "    .dataframe thead th {\n",
       "        text-align: right;\n",
       "    }\n",
       "</style>\n",
       "<table border=\"1\" class=\"dataframe\">\n",
       "  <thead>\n",
       "    <tr style=\"text-align: right;\">\n",
       "      <th></th>\n",
       "      <th>year</th>\n",
       "      <th>month</th>\n",
       "      <th>day</th>\n",
       "      <th>wind_speed</th>\n",
       "      <th>date</th>\n",
       "    </tr>\n",
       "  </thead>\n",
       "  <tbody>\n",
       "    <tr>\n",
       "      <th>0</th>\n",
       "      <td>2013</td>\n",
       "      <td>1</td>\n",
       "      <td>1</td>\n",
       "      <td>6.687183</td>\n",
       "      <td>2013-01-01</td>\n",
       "    </tr>\n",
       "    <tr>\n",
       "      <th>1</th>\n",
       "      <td>2013</td>\n",
       "      <td>1</td>\n",
       "      <td>2</td>\n",
       "      <td>6.429983</td>\n",
       "      <td>2013-01-02</td>\n",
       "    </tr>\n",
       "    <tr>\n",
       "      <th>2</th>\n",
       "      <td>2013</td>\n",
       "      <td>1</td>\n",
       "      <td>3</td>\n",
       "      <td>4.908221</td>\n",
       "      <td>2013-01-03</td>\n",
       "    </tr>\n",
       "    <tr>\n",
       "      <th>3</th>\n",
       "      <td>2013</td>\n",
       "      <td>1</td>\n",
       "      <td>4</td>\n",
       "      <td>6.880082</td>\n",
       "      <td>2013-01-04</td>\n",
       "    </tr>\n",
       "    <tr>\n",
       "      <th>4</th>\n",
       "      <td>2013</td>\n",
       "      <td>1</td>\n",
       "      <td>5</td>\n",
       "      <td>5.143987</td>\n",
       "      <td>2013-01-05</td>\n",
       "    </tr>\n",
       "    <tr>\n",
       "      <th>...</th>\n",
       "      <td>...</td>\n",
       "      <td>...</td>\n",
       "      <td>...</td>\n",
       "      <td>...</td>\n",
       "      <td>...</td>\n",
       "    </tr>\n",
       "    <tr>\n",
       "      <th>359</th>\n",
       "      <td>2013</td>\n",
       "      <td>12</td>\n",
       "      <td>26</td>\n",
       "      <td>3.300725</td>\n",
       "      <td>2013-12-26</td>\n",
       "    </tr>\n",
       "    <tr>\n",
       "      <th>360</th>\n",
       "      <td>2013</td>\n",
       "      <td>12</td>\n",
       "      <td>27</td>\n",
       "      <td>5.401186</td>\n",
       "      <td>2013-12-27</td>\n",
       "    </tr>\n",
       "    <tr>\n",
       "      <th>361</th>\n",
       "      <td>2013</td>\n",
       "      <td>12</td>\n",
       "      <td>28</td>\n",
       "      <td>4.672454</td>\n",
       "      <td>2013-12-28</td>\n",
       "    </tr>\n",
       "    <tr>\n",
       "      <th>362</th>\n",
       "      <td>2013</td>\n",
       "      <td>12</td>\n",
       "      <td>29</td>\n",
       "      <td>3.793690</td>\n",
       "      <td>2013-12-29</td>\n",
       "    </tr>\n",
       "    <tr>\n",
       "      <th>363</th>\n",
       "      <td>2013</td>\n",
       "      <td>12</td>\n",
       "      <td>30</td>\n",
       "      <td>6.001318</td>\n",
       "      <td>2013-12-30</td>\n",
       "    </tr>\n",
       "  </tbody>\n",
       "</table>\n",
       "<p>364 rows × 5 columns</p>\n",
       "</div>"
      ],
      "text/plain": [
       "     year  month  day  wind_speed       date\n",
       "0    2013      1    1    6.687183 2013-01-01\n",
       "1    2013      1    2    6.429983 2013-01-02\n",
       "2    2013      1    3    4.908221 2013-01-03\n",
       "3    2013      1    4    6.880082 2013-01-04\n",
       "4    2013      1    5    5.143987 2013-01-05\n",
       "..    ...    ...  ...         ...        ...\n",
       "359  2013     12   26    3.300725 2013-12-26\n",
       "360  2013     12   27    5.401186 2013-12-27\n",
       "361  2013     12   28    4.672454 2013-12-28\n",
       "362  2013     12   29    3.793690 2013-12-29\n",
       "363  2013     12   30    6.001318 2013-12-30\n",
       "\n",
       "[364 rows x 5 columns]"
      ]
     },
     "execution_count": 56,
     "metadata": {},
     "output_type": "execute_result"
    }
   ],
   "source": [
    "mean_df_lga #Final summerized dataframe which has the daily mean wind speeds.\n",
    "#This is grouped by year month and day."
   ]
  },
  {
   "cell_type": "markdown",
   "id": "db7062d8",
   "metadata": {},
   "source": [
    "<h style=\"height:1px; width:100%\">\n",
    "\n",
    "<h2 style=\"color:#1D3361\"> Step 6: Daily Mean of Wind Speeds in a single plot </h2>\n"
   ]
  },
  {
   "cell_type": "markdown",
   "id": "e72a7a95",
   "metadata": {},
   "source": [
    "<p style=\"color:#20568B; font-size:15px\";>\n",
    "Using the above mean dataframe, we will not plot the line graph where the x-axis is the dates and the y-axis is the daily average wind speed.</p>\n",
    "\n",
    "<p style=\"color:#20568B; font-size:15px\";>\n",
    "We can see from the plotted graph below that the daily average wind speed is highest around the mid week of February and around last week of November and last week of January.\n",
    "</p>\n",
    "\n",
    "<p style=\"color:#20568B; font-size:15px\";>\n",
    "Wind Speeds are consistently max around a few dates in February</p>\n"
   ]
  },
  {
   "cell_type": "code",
   "execution_count": 57,
   "id": "121ea9b4",
   "metadata": {},
   "outputs": [
    {
     "data": {
      "image/png": "[encoded data removed]",
      "text/plain": [
       "<Figure size 1000x600 with 1 Axes>"
      ]
     },
     "metadata": {},
     "output_type": "display_data"
    }
   ],
   "source": [
    "# Plot daily mean wind speed\n",
    "plt.figure(figsize=(10, 6)) #Specifying the plot size\n",
    "plt.plot(mean_df_lga['date'], mean_df_lga['wind_speed']) #plotting the graph\n",
    "#Labelling the graph\n",
    "plt.xlabel('Date')\n",
    "plt.ylabel('Daily Mean Wind Speed (m/s)')\n",
    "plt.title('Daily Mean Wind Speed at LGA Airport in 2013')\n",
    "plt.show()"
   ]
  },
  {
   "cell_type": "markdown",
   "id": "6f398a4c",
   "metadata": {},
   "source": [
    "<h style=\"height:1px; width:100%\">\n",
    "\n",
    "<h2 style=\"color:#1D3361\"> Step 7: Ten Windiest Days at LGA airport - Dates with their corresponding mean daily wind speeds. </h2>\n"
   ]
  },
  {
   "cell_type": "markdown",
   "id": "18bea2ff",
   "metadata": {},
   "source": [
    "<p style=\"color:#20568B; font-size:15px\";>\n",
    "Next we need to find the windiest days (top 10 days) pertaining to he LGA airport.</p>\n",
    "\n",
    "<p style=\"color:#20568B; font-size:15px\";>\n",
    "For this we would need to sort the above dataframe by descending and then extract only the top 10 rows</p>\n",
    "\n",
    "<p style=\"color:#20568B; font-size:15px\";>\n",
    "We can again confirm that February has a few days that are windiest.</p>\n",
    "\n",
    "<p style=\"color:#20568B; font-size:15px\";>\n",
    "The windiest day is 24th November with average wind speeds reaching to 11.31 m/s.</p>\n",
    "\n",
    "<p style=\"color:#20568B; font-size:15px\";>\n",
    "In the top 10 windiest days the wind speeds range between 8.65 m/s and 11.31 m/s.</p>"
   ]
  },
  {
   "cell_type": "code",
   "execution_count": 58,
   "id": "5d8889ca",
   "metadata": {},
   "outputs": [],
   "source": [
    "mean_df_lga.sort_values(by = 'wind_speed', ascending=False, inplace=True)"
   ]
  },
  {
   "cell_type": "code",
   "execution_count": 59,
   "id": "a17e6445",
   "metadata": {},
   "outputs": [
    {
     "data": {
      "text/html": [
       "<div>\n",
       "<style scoped>\n",
       "    .dataframe tbody tr th:only-of-type {\n",
       "        vertical-align: middle;\n",
       "    }\n",
       "\n",
       "    .dataframe tbody tr th {\n",
       "        vertical-align: top;\n",
       "    }\n",
       "\n",
       "    .dataframe thead th {\n",
       "        text-align: right;\n",
       "    }\n",
       "</style>\n",
       "<table border=\"1\" class=\"dataframe\">\n",
       "  <thead>\n",
       "    <tr style=\"text-align: right;\">\n",
       "      <th></th>\n",
       "      <th>date</th>\n",
       "      <th>wind_speed</th>\n",
       "    </tr>\n",
       "  </thead>\n",
       "  <tbody>\n",
       "    <tr>\n",
       "      <th>327</th>\n",
       "      <td>2013-11-24</td>\n",
       "      <td>11.316771</td>\n",
       "    </tr>\n",
       "    <tr>\n",
       "      <th>30</th>\n",
       "      <td>2013-01-31</td>\n",
       "      <td>10.716639</td>\n",
       "    </tr>\n",
       "    <tr>\n",
       "      <th>47</th>\n",
       "      <td>2013-02-17</td>\n",
       "      <td>10.009341</td>\n",
       "    </tr>\n",
       "    <tr>\n",
       "      <th>51</th>\n",
       "      <td>2013-02-21</td>\n",
       "      <td>9.192080</td>\n",
       "    </tr>\n",
       "    <tr>\n",
       "      <th>48</th>\n",
       "      <td>2013-02-18</td>\n",
       "      <td>9.173443</td>\n",
       "    </tr>\n",
       "    <tr>\n",
       "      <th>72</th>\n",
       "      <td>2013-03-14</td>\n",
       "      <td>9.109143</td>\n",
       "    </tr>\n",
       "    <tr>\n",
       "      <th>331</th>\n",
       "      <td>2013-11-28</td>\n",
       "      <td>8.937677</td>\n",
       "    </tr>\n",
       "    <tr>\n",
       "      <th>145</th>\n",
       "      <td>2013-05-26</td>\n",
       "      <td>8.851944</td>\n",
       "    </tr>\n",
       "    <tr>\n",
       "      <th>144</th>\n",
       "      <td>2013-05-25</td>\n",
       "      <td>8.766210</td>\n",
       "    </tr>\n",
       "    <tr>\n",
       "      <th>50</th>\n",
       "      <td>2013-02-20</td>\n",
       "      <td>8.659044</td>\n",
       "    </tr>\n",
       "  </tbody>\n",
       "</table>\n",
       "</div>"
      ],
      "text/plain": [
       "          date  wind_speed\n",
       "327 2013-11-24   11.316771\n",
       "30  2013-01-31   10.716639\n",
       "47  2013-02-17   10.009341\n",
       "51  2013-02-21    9.192080\n",
       "48  2013-02-18    9.173443\n",
       "72  2013-03-14    9.109143\n",
       "331 2013-11-28    8.937677\n",
       "145 2013-05-26    8.851944\n",
       "144 2013-05-25    8.766210\n",
       "50  2013-02-20    8.659044"
      ]
     },
     "execution_count": 59,
     "metadata": {},
     "output_type": "execute_result"
    }
   ],
   "source": [
    "mean_df_lga[['date', 'wind_speed']].head(10)"
   ]
  },
  {
   "cell_type": "markdown",
   "id": "f8113a27",
   "metadata": {},
   "source": [
    "<h style=\"height:1px; width:100%\">\n",
    "\n",
    "<h2 style=\"color:#1D3361\"> Step 8: Monthly Mean Wind Speeds for all the 3 Airports. </h2>\n"
   ]
  },
  {
   "cell_type": "markdown",
   "id": "5b751cbb",
   "metadata": {},
   "source": [
    "<p style=\"color:#20568B; font-size:15px\";>\n",
    "There is an extreme outlier in wind speeds. In order to find that out, we will plot a box plt to figure out the anomoly.\n",
    "</p>\n",
    "\n",
    "<p style=\"color:#20568B; font-size:15px\";>\n",
    "We can see the wind speed of 468.61 m/s as the outlier.\n",
    "</p>\n",
    "\n",
    "<p style=\"color:#20568B; font-size:15px\";>\n",
    "We will remove this out and then calculate the monthly means by airports.\n",
    "</p>\n",
    "\n",
    "<p style=\"color:#20568B; font-size:15px\";>\n",
    "Subsets of the orginal data are extracted. 3 subsets are obtained when filtered by airport.\n",
    "</p>\n",
    "\n",
    "<p style=\"color:#20568B; font-size:15px\";>\n",
    "We then group each of the subset by month and calcualte the mean.\n",
    "</p>\n",
    "\n",
    "<p style=\"color:#20568B; font-size:15px\";>\n",
    "The three resultant sets are then merged into one dataframe for further visual plotting.\n",
    "</p>"
   ]
  },
  {
   "cell_type": "code",
   "execution_count": 64,
   "id": "a1b8bdb7",
   "metadata": {},
   "outputs": [
    {
     "data": {
      "image/png": "[encoded data removed]",
      "text/plain": [
       "<Figure size 1000x600 with 1 Axes>"
      ]
     },
     "metadata": {},
     "output_type": "display_data"
    }
   ],
   "source": [
    "plt.figure(figsize=(10, 6))\n",
    "sns.boxplot(flight_df.wind_speed)\n",
    "plt.title(\"Box Plot of Data with Outliers (IQR Method)\")\n",
    "plt.ylim(-5,25)\n",
    "plt.show()"
   ]
  },
  {
   "cell_type": "code",
   "execution_count": 65,
   "id": "75ee1f6e",
   "metadata": {},
   "outputs": [
    {
     "data": {
      "image/png": "[encoded data removed]",
      "text/plain": [
       "<Figure size 1000x600 with 1 Axes>"
      ]
     },
     "metadata": {},
     "output_type": "display_data"
    }
   ],
   "source": [
    "plt.figure(figsize=(10, 6))\n",
    "sns.boxplot(flight_df.wind_speed)\n",
    "plt.title(\"Box Plot of Data with Outliers (IQR Method)\")\n",
    "#plt.ylim(-5,25)\n",
    "plt.show()"
   ]
  },
  {
   "cell_type": "code",
   "execution_count": 66,
   "id": "d5ec34d1",
   "metadata": {
    "scrolled": true
   },
   "outputs": [
    {
     "data": {
      "text/plain": [
       "468.61717926"
      ]
     },
     "execution_count": 66,
     "metadata": {},
     "output_type": "execute_result"
    }
   ],
   "source": [
    "# Removing that one extreme outlier\n",
    "flight_df['wind_speed'].max()"
   ]
  },
  {
   "cell_type": "code",
   "execution_count": 67,
   "id": "eb869884",
   "metadata": {},
   "outputs": [],
   "source": [
    "# Filtering out the extreme outlier and dropping the anomoly before proceeding with further analysis\n",
    "filtered = flight_df[flight_df['wind_speed'] == 468.61717926].index\n",
    "flight_df.drop(filtered , inplace=True)"
   ]
  },
  {
   "cell_type": "code",
   "execution_count": 68,
   "id": "5b8c8801",
   "metadata": {},
   "outputs": [
    {
     "data": {
      "text/plain": [
       "(26129, 15)"
      ]
     },
     "execution_count": 68,
     "metadata": {},
     "output_type": "execute_result"
    }
   ],
   "source": [
    "flight_df.shape #shape of the dataset after dropping the extreme outlier"
   ]
  },
  {
   "cell_type": "code",
   "execution_count": 69,
   "id": "47b8bce3",
   "metadata": {},
   "outputs": [
    {
     "data": {
      "text/plain": [
       "array(['EWR', 'JFK', 'LGA'], dtype=object)"
      ]
     },
     "execution_count": 69,
     "metadata": {},
     "output_type": "execute_result"
    }
   ],
   "source": [
    "flight_df['origin'].unique()"
   ]
  },
  {
   "cell_type": "code",
   "execution_count": 70,
   "id": "938f276e",
   "metadata": {},
   "outputs": [],
   "source": [
    "# Filtering data by airport. Extracting the 3 subsets\n",
    "jfk_monthly_df = flight_df[flight_df['origin'] == 'JFK']\n",
    "ewr_monthly_df = flight_df[flight_df['origin'] == 'EWR']\n",
    "lga_monthly_df = flight_df[flight_df['origin'] == 'LGA']"
   ]
  },
  {
   "cell_type": "code",
   "execution_count": 71,
   "id": "712fc968",
   "metadata": {},
   "outputs": [
    {
     "data": {
      "text/plain": [
       "(8711, 15)"
      ]
     },
     "execution_count": 71,
     "metadata": {},
     "output_type": "execute_result"
    }
   ],
   "source": [
    "jfk_monthly_df.shape"
   ]
  },
  {
   "cell_type": "code",
   "execution_count": 72,
   "id": "d15966f5",
   "metadata": {},
   "outputs": [
    {
     "data": {
      "text/plain": [
       "(8707, 15)"
      ]
     },
     "execution_count": 72,
     "metadata": {},
     "output_type": "execute_result"
    }
   ],
   "source": [
    "ewr_monthly_df.shape #The exterme outlier was here in this subset"
   ]
  },
  {
   "cell_type": "code",
   "execution_count": 73,
   "id": "43b13685",
   "metadata": {},
   "outputs": [
    {
     "data": {
      "text/plain": [
       "(8711, 15)"
      ]
     },
     "execution_count": 73,
     "metadata": {},
     "output_type": "execute_result"
    }
   ],
   "source": [
    "lga_monthly_df.shape"
   ]
  },
  {
   "cell_type": "code",
   "execution_count": 74,
   "id": "3ea058aa",
   "metadata": {},
   "outputs": [],
   "source": [
    "# Group by month, and compute mean wind speed\n",
    "jfk_monthly_wind_speed_mean = jfk_monthly_df.groupby(['month'])['wind_speed'].mean()\n",
    "ewr_monthly_wind_speed_mean = ewr_monthly_df.groupby(['month'])['wind_speed'].mean()\n",
    "lga_monthly_wind_speed_mean = lga_monthly_df.groupby(['month'])['wind_speed'].mean()"
   ]
  },
  {
   "cell_type": "code",
   "execution_count": 75,
   "id": "cca53e4c",
   "metadata": {},
   "outputs": [
    {
     "data": {
      "text/plain": [
       "month\n",
       "1     5.377993\n",
       "2     5.954299\n",
       "3     6.208833\n",
       "4     5.583980\n",
       "5     4.599858\n",
       "6     4.883929\n",
       "7     4.497869\n",
       "8     4.304778\n",
       "9     4.359529\n",
       "10    4.614951\n",
       "11    5.752306\n",
       "12    4.861067\n",
       "Name: wind_speed, dtype: float64"
      ]
     },
     "execution_count": 75,
     "metadata": {},
     "output_type": "execute_result"
    }
   ],
   "source": [
    "jfk_monthly_wind_speed_mean"
   ]
  },
  {
   "cell_type": "code",
   "execution_count": 76,
   "id": "195e110d",
   "metadata": {},
   "outputs": [
    {
     "data": {
      "text/plain": [
       "month\n",
       "1     4.327734\n",
       "2     4.731236\n",
       "3     5.143987\n",
       "4     4.265222\n",
       "5     3.709340\n",
       "6     4.202351\n",
       "7     4.022167\n",
       "8     3.349152\n",
       "9     3.574319\n",
       "10    3.650413\n",
       "11    4.598609\n",
       "12    3.911290\n",
       "Name: wind_speed, dtype: float64"
      ]
     },
     "execution_count": 76,
     "metadata": {},
     "output_type": "execute_result"
    }
   ],
   "source": [
    "ewr_monthly_wind_speed_mean"
   ]
  },
  {
   "cell_type": "code",
   "execution_count": 77,
   "id": "cfd41521",
   "metadata": {},
   "outputs": [
    {
     "data": {
      "text/plain": [
       "month\n",
       "1     5.068523\n",
       "2     5.521724\n",
       "3     5.848338\n",
       "4     4.931083\n",
       "5     4.197465\n",
       "6     4.462408\n",
       "7     4.180960\n",
       "8     3.733741\n",
       "9     3.933721\n",
       "10    4.568250\n",
       "11    5.416358\n",
       "12    4.525994\n",
       "Name: wind_speed, dtype: float64"
      ]
     },
     "execution_count": 77,
     "metadata": {},
     "output_type": "execute_result"
    }
   ],
   "source": [
    "lga_monthly_wind_speed_mean"
   ]
  },
  {
   "cell_type": "code",
   "execution_count": 78,
   "id": "60a60ac2",
   "metadata": {},
   "outputs": [],
   "source": [
    "#Transforming the Series into a Data Frame\n",
    "jfk = jfk_monthly_wind_speed_mean.to_frame().reset_index()\n",
    "ewr = ewr_monthly_wind_speed_mean.to_frame().reset_index()\n",
    "lga = lga_monthly_wind_speed_mean.to_frame().reset_index()"
   ]
  },
  {
   "cell_type": "code",
   "execution_count": 79,
   "id": "1aa683a2",
   "metadata": {},
   "outputs": [
    {
     "data": {
      "text/html": [
       "<div>\n",
       "<style scoped>\n",
       "    .dataframe tbody tr th:only-of-type {\n",
       "        vertical-align: middle;\n",
       "    }\n",
       "\n",
       "    .dataframe tbody tr th {\n",
       "        vertical-align: top;\n",
       "    }\n",
       "\n",
       "    .dataframe thead th {\n",
       "        text-align: right;\n",
       "    }\n",
       "</style>\n",
       "<table border=\"1\" class=\"dataframe\">\n",
       "  <thead>\n",
       "    <tr style=\"text-align: right;\">\n",
       "      <th></th>\n",
       "      <th>month</th>\n",
       "      <th>wind_speed</th>\n",
       "    </tr>\n",
       "  </thead>\n",
       "  <tbody>\n",
       "    <tr>\n",
       "      <th>0</th>\n",
       "      <td>1</td>\n",
       "      <td>5.377993</td>\n",
       "    </tr>\n",
       "    <tr>\n",
       "      <th>1</th>\n",
       "      <td>2</td>\n",
       "      <td>5.954299</td>\n",
       "    </tr>\n",
       "    <tr>\n",
       "      <th>2</th>\n",
       "      <td>3</td>\n",
       "      <td>6.208833</td>\n",
       "    </tr>\n",
       "    <tr>\n",
       "      <th>3</th>\n",
       "      <td>4</td>\n",
       "      <td>5.583980</td>\n",
       "    </tr>\n",
       "    <tr>\n",
       "      <th>4</th>\n",
       "      <td>5</td>\n",
       "      <td>4.599858</td>\n",
       "    </tr>\n",
       "    <tr>\n",
       "      <th>5</th>\n",
       "      <td>6</td>\n",
       "      <td>4.883929</td>\n",
       "    </tr>\n",
       "    <tr>\n",
       "      <th>6</th>\n",
       "      <td>7</td>\n",
       "      <td>4.497869</td>\n",
       "    </tr>\n",
       "    <tr>\n",
       "      <th>7</th>\n",
       "      <td>8</td>\n",
       "      <td>4.304778</td>\n",
       "    </tr>\n",
       "    <tr>\n",
       "      <th>8</th>\n",
       "      <td>9</td>\n",
       "      <td>4.359529</td>\n",
       "    </tr>\n",
       "    <tr>\n",
       "      <th>9</th>\n",
       "      <td>10</td>\n",
       "      <td>4.614951</td>\n",
       "    </tr>\n",
       "    <tr>\n",
       "      <th>10</th>\n",
       "      <td>11</td>\n",
       "      <td>5.752306</td>\n",
       "    </tr>\n",
       "    <tr>\n",
       "      <th>11</th>\n",
       "      <td>12</td>\n",
       "      <td>4.861067</td>\n",
       "    </tr>\n",
       "  </tbody>\n",
       "</table>\n",
       "</div>"
      ],
      "text/plain": [
       "    month  wind_speed\n",
       "0       1    5.377993\n",
       "1       2    5.954299\n",
       "2       3    6.208833\n",
       "3       4    5.583980\n",
       "4       5    4.599858\n",
       "5       6    4.883929\n",
       "6       7    4.497869\n",
       "7       8    4.304778\n",
       "8       9    4.359529\n",
       "9      10    4.614951\n",
       "10     11    5.752306\n",
       "11     12    4.861067"
      ]
     },
     "execution_count": 79,
     "metadata": {},
     "output_type": "execute_result"
    }
   ],
   "source": [
    "jfk"
   ]
  },
  {
   "cell_type": "code",
   "execution_count": 80,
   "id": "7327e617",
   "metadata": {},
   "outputs": [
    {
     "data": {
      "text/html": [
       "<div>\n",
       "<style scoped>\n",
       "    .dataframe tbody tr th:only-of-type {\n",
       "        vertical-align: middle;\n",
       "    }\n",
       "\n",
       "    .dataframe tbody tr th {\n",
       "        vertical-align: top;\n",
       "    }\n",
       "\n",
       "    .dataframe thead th {\n",
       "        text-align: right;\n",
       "    }\n",
       "</style>\n",
       "<table border=\"1\" class=\"dataframe\">\n",
       "  <thead>\n",
       "    <tr style=\"text-align: right;\">\n",
       "      <th></th>\n",
       "      <th>month</th>\n",
       "      <th>wind_speed</th>\n",
       "    </tr>\n",
       "  </thead>\n",
       "  <tbody>\n",
       "    <tr>\n",
       "      <th>0</th>\n",
       "      <td>1</td>\n",
       "      <td>4.327734</td>\n",
       "    </tr>\n",
       "    <tr>\n",
       "      <th>1</th>\n",
       "      <td>2</td>\n",
       "      <td>4.731236</td>\n",
       "    </tr>\n",
       "    <tr>\n",
       "      <th>2</th>\n",
       "      <td>3</td>\n",
       "      <td>5.143987</td>\n",
       "    </tr>\n",
       "    <tr>\n",
       "      <th>3</th>\n",
       "      <td>4</td>\n",
       "      <td>4.265222</td>\n",
       "    </tr>\n",
       "    <tr>\n",
       "      <th>4</th>\n",
       "      <td>5</td>\n",
       "      <td>3.709340</td>\n",
       "    </tr>\n",
       "    <tr>\n",
       "      <th>5</th>\n",
       "      <td>6</td>\n",
       "      <td>4.202351</td>\n",
       "    </tr>\n",
       "    <tr>\n",
       "      <th>6</th>\n",
       "      <td>7</td>\n",
       "      <td>4.022167</td>\n",
       "    </tr>\n",
       "    <tr>\n",
       "      <th>7</th>\n",
       "      <td>8</td>\n",
       "      <td>3.349152</td>\n",
       "    </tr>\n",
       "    <tr>\n",
       "      <th>8</th>\n",
       "      <td>9</td>\n",
       "      <td>3.574319</td>\n",
       "    </tr>\n",
       "    <tr>\n",
       "      <th>9</th>\n",
       "      <td>10</td>\n",
       "      <td>3.650413</td>\n",
       "    </tr>\n",
       "    <tr>\n",
       "      <th>10</th>\n",
       "      <td>11</td>\n",
       "      <td>4.598609</td>\n",
       "    </tr>\n",
       "    <tr>\n",
       "      <th>11</th>\n",
       "      <td>12</td>\n",
       "      <td>3.911290</td>\n",
       "    </tr>\n",
       "  </tbody>\n",
       "</table>\n",
       "</div>"
      ],
      "text/plain": [
       "    month  wind_speed\n",
       "0       1    4.327734\n",
       "1       2    4.731236\n",
       "2       3    5.143987\n",
       "3       4    4.265222\n",
       "4       5    3.709340\n",
       "5       6    4.202351\n",
       "6       7    4.022167\n",
       "7       8    3.349152\n",
       "8       9    3.574319\n",
       "9      10    3.650413\n",
       "10     11    4.598609\n",
       "11     12    3.911290"
      ]
     },
     "execution_count": 80,
     "metadata": {},
     "output_type": "execute_result"
    }
   ],
   "source": [
    "ewr"
   ]
  },
  {
   "cell_type": "code",
   "execution_count": 81,
   "id": "48070460",
   "metadata": {},
   "outputs": [
    {
     "data": {
      "text/html": [
       "<div>\n",
       "<style scoped>\n",
       "    .dataframe tbody tr th:only-of-type {\n",
       "        vertical-align: middle;\n",
       "    }\n",
       "\n",
       "    .dataframe tbody tr th {\n",
       "        vertical-align: top;\n",
       "    }\n",
       "\n",
       "    .dataframe thead th {\n",
       "        text-align: right;\n",
       "    }\n",
       "</style>\n",
       "<table border=\"1\" class=\"dataframe\">\n",
       "  <thead>\n",
       "    <tr style=\"text-align: right;\">\n",
       "      <th></th>\n",
       "      <th>month</th>\n",
       "      <th>wind_speed</th>\n",
       "    </tr>\n",
       "  </thead>\n",
       "  <tbody>\n",
       "    <tr>\n",
       "      <th>0</th>\n",
       "      <td>1</td>\n",
       "      <td>5.068523</td>\n",
       "    </tr>\n",
       "    <tr>\n",
       "      <th>1</th>\n",
       "      <td>2</td>\n",
       "      <td>5.521724</td>\n",
       "    </tr>\n",
       "    <tr>\n",
       "      <th>2</th>\n",
       "      <td>3</td>\n",
       "      <td>5.848338</td>\n",
       "    </tr>\n",
       "    <tr>\n",
       "      <th>3</th>\n",
       "      <td>4</td>\n",
       "      <td>4.931083</td>\n",
       "    </tr>\n",
       "    <tr>\n",
       "      <th>4</th>\n",
       "      <td>5</td>\n",
       "      <td>4.197465</td>\n",
       "    </tr>\n",
       "    <tr>\n",
       "      <th>5</th>\n",
       "      <td>6</td>\n",
       "      <td>4.462408</td>\n",
       "    </tr>\n",
       "    <tr>\n",
       "      <th>6</th>\n",
       "      <td>7</td>\n",
       "      <td>4.180960</td>\n",
       "    </tr>\n",
       "    <tr>\n",
       "      <th>7</th>\n",
       "      <td>8</td>\n",
       "      <td>3.733741</td>\n",
       "    </tr>\n",
       "    <tr>\n",
       "      <th>8</th>\n",
       "      <td>9</td>\n",
       "      <td>3.933721</td>\n",
       "    </tr>\n",
       "    <tr>\n",
       "      <th>9</th>\n",
       "      <td>10</td>\n",
       "      <td>4.568250</td>\n",
       "    </tr>\n",
       "    <tr>\n",
       "      <th>10</th>\n",
       "      <td>11</td>\n",
       "      <td>5.416358</td>\n",
       "    </tr>\n",
       "    <tr>\n",
       "      <th>11</th>\n",
       "      <td>12</td>\n",
       "      <td>4.525994</td>\n",
       "    </tr>\n",
       "  </tbody>\n",
       "</table>\n",
       "</div>"
      ],
      "text/plain": [
       "    month  wind_speed\n",
       "0       1    5.068523\n",
       "1       2    5.521724\n",
       "2       3    5.848338\n",
       "3       4    4.931083\n",
       "4       5    4.197465\n",
       "5       6    4.462408\n",
       "6       7    4.180960\n",
       "7       8    3.733741\n",
       "8       9    3.933721\n",
       "9      10    4.568250\n",
       "10     11    5.416358\n",
       "11     12    4.525994"
      ]
     },
     "execution_count": 81,
     "metadata": {},
     "output_type": "execute_result"
    }
   ],
   "source": [
    "lga"
   ]
  },
  {
   "cell_type": "code",
   "execution_count": 82,
   "id": "777d986b",
   "metadata": {},
   "outputs": [],
   "source": [
    "#Merging the 3 resultant monthly means into one dataframe so we can compare the average means in each of the airport by months\n",
    "three_airports_monthly_means = pd.merge(pd.merge(jfk,ewr,on='month'),lga,on='month')"
   ]
  },
  {
   "cell_type": "code",
   "execution_count": 83,
   "id": "478fef24",
   "metadata": {},
   "outputs": [
    {
     "data": {
      "text/html": [
       "<div>\n",
       "<style scoped>\n",
       "    .dataframe tbody tr th:only-of-type {\n",
       "        vertical-align: middle;\n",
       "    }\n",
       "\n",
       "    .dataframe tbody tr th {\n",
       "        vertical-align: top;\n",
       "    }\n",
       "\n",
       "    .dataframe thead th {\n",
       "        text-align: right;\n",
       "    }\n",
       "</style>\n",
       "<table border=\"1\" class=\"dataframe\">\n",
       "  <thead>\n",
       "    <tr style=\"text-align: right;\">\n",
       "      <th></th>\n",
       "      <th>month</th>\n",
       "      <th>wind_speed_x</th>\n",
       "      <th>wind_speed_y</th>\n",
       "      <th>wind_speed</th>\n",
       "    </tr>\n",
       "  </thead>\n",
       "  <tbody>\n",
       "    <tr>\n",
       "      <th>0</th>\n",
       "      <td>1</td>\n",
       "      <td>5.377993</td>\n",
       "      <td>4.327734</td>\n",
       "      <td>5.068523</td>\n",
       "    </tr>\n",
       "    <tr>\n",
       "      <th>1</th>\n",
       "      <td>2</td>\n",
       "      <td>5.954299</td>\n",
       "      <td>4.731236</td>\n",
       "      <td>5.521724</td>\n",
       "    </tr>\n",
       "    <tr>\n",
       "      <th>2</th>\n",
       "      <td>3</td>\n",
       "      <td>6.208833</td>\n",
       "      <td>5.143987</td>\n",
       "      <td>5.848338</td>\n",
       "    </tr>\n",
       "    <tr>\n",
       "      <th>3</th>\n",
       "      <td>4</td>\n",
       "      <td>5.583980</td>\n",
       "      <td>4.265222</td>\n",
       "      <td>4.931083</td>\n",
       "    </tr>\n",
       "    <tr>\n",
       "      <th>4</th>\n",
       "      <td>5</td>\n",
       "      <td>4.599858</td>\n",
       "      <td>3.709340</td>\n",
       "      <td>4.197465</td>\n",
       "    </tr>\n",
       "    <tr>\n",
       "      <th>5</th>\n",
       "      <td>6</td>\n",
       "      <td>4.883929</td>\n",
       "      <td>4.202351</td>\n",
       "      <td>4.462408</td>\n",
       "    </tr>\n",
       "    <tr>\n",
       "      <th>6</th>\n",
       "      <td>7</td>\n",
       "      <td>4.497869</td>\n",
       "      <td>4.022167</td>\n",
       "      <td>4.180960</td>\n",
       "    </tr>\n",
       "    <tr>\n",
       "      <th>7</th>\n",
       "      <td>8</td>\n",
       "      <td>4.304778</td>\n",
       "      <td>3.349152</td>\n",
       "      <td>3.733741</td>\n",
       "    </tr>\n",
       "    <tr>\n",
       "      <th>8</th>\n",
       "      <td>9</td>\n",
       "      <td>4.359529</td>\n",
       "      <td>3.574319</td>\n",
       "      <td>3.933721</td>\n",
       "    </tr>\n",
       "    <tr>\n",
       "      <th>9</th>\n",
       "      <td>10</td>\n",
       "      <td>4.614951</td>\n",
       "      <td>3.650413</td>\n",
       "      <td>4.568250</td>\n",
       "    </tr>\n",
       "    <tr>\n",
       "      <th>10</th>\n",
       "      <td>11</td>\n",
       "      <td>5.752306</td>\n",
       "      <td>4.598609</td>\n",
       "      <td>5.416358</td>\n",
       "    </tr>\n",
       "    <tr>\n",
       "      <th>11</th>\n",
       "      <td>12</td>\n",
       "      <td>4.861067</td>\n",
       "      <td>3.911290</td>\n",
       "      <td>4.525994</td>\n",
       "    </tr>\n",
       "  </tbody>\n",
       "</table>\n",
       "</div>"
      ],
      "text/plain": [
       "    month  wind_speed_x  wind_speed_y  wind_speed\n",
       "0       1      5.377993      4.327734    5.068523\n",
       "1       2      5.954299      4.731236    5.521724\n",
       "2       3      6.208833      5.143987    5.848338\n",
       "3       4      5.583980      4.265222    4.931083\n",
       "4       5      4.599858      3.709340    4.197465\n",
       "5       6      4.883929      4.202351    4.462408\n",
       "6       7      4.497869      4.022167    4.180960\n",
       "7       8      4.304778      3.349152    3.733741\n",
       "8       9      4.359529      3.574319    3.933721\n",
       "9      10      4.614951      3.650413    4.568250\n",
       "10     11      5.752306      4.598609    5.416358\n",
       "11     12      4.861067      3.911290    4.525994"
      ]
     },
     "execution_count": 83,
     "metadata": {},
     "output_type": "execute_result"
    }
   ],
   "source": [
    "three_airports_monthly_means"
   ]
  },
  {
   "cell_type": "code",
   "execution_count": 84,
   "id": "3f6141af",
   "metadata": {},
   "outputs": [],
   "source": [
    "three_airports_monthly_means.rename(columns = {'wind_speed_x':'wind_speed_jfk','wind_speed_y':'wind_speed_ewr','wind_speed':'wind_speed_lga'}, inplace = True) "
   ]
  },
  {
   "cell_type": "code",
   "execution_count": 85,
   "id": "801fcf97",
   "metadata": {},
   "outputs": [
    {
     "data": {
      "text/html": [
       "<div>\n",
       "<style scoped>\n",
       "    .dataframe tbody tr th:only-of-type {\n",
       "        vertical-align: middle;\n",
       "    }\n",
       "\n",
       "    .dataframe tbody tr th {\n",
       "        vertical-align: top;\n",
       "    }\n",
       "\n",
       "    .dataframe thead th {\n",
       "        text-align: right;\n",
       "    }\n",
       "</style>\n",
       "<table border=\"1\" class=\"dataframe\">\n",
       "  <thead>\n",
       "    <tr style=\"text-align: right;\">\n",
       "      <th></th>\n",
       "      <th>month</th>\n",
       "      <th>wind_speed_jfk</th>\n",
       "      <th>wind_speed_ewr</th>\n",
       "      <th>wind_speed_lga</th>\n",
       "    </tr>\n",
       "  </thead>\n",
       "  <tbody>\n",
       "    <tr>\n",
       "      <th>0</th>\n",
       "      <td>1</td>\n",
       "      <td>5.377993</td>\n",
       "      <td>4.327734</td>\n",
       "      <td>5.068523</td>\n",
       "    </tr>\n",
       "    <tr>\n",
       "      <th>1</th>\n",
       "      <td>2</td>\n",
       "      <td>5.954299</td>\n",
       "      <td>4.731236</td>\n",
       "      <td>5.521724</td>\n",
       "    </tr>\n",
       "    <tr>\n",
       "      <th>2</th>\n",
       "      <td>3</td>\n",
       "      <td>6.208833</td>\n",
       "      <td>5.143987</td>\n",
       "      <td>5.848338</td>\n",
       "    </tr>\n",
       "    <tr>\n",
       "      <th>3</th>\n",
       "      <td>4</td>\n",
       "      <td>5.583980</td>\n",
       "      <td>4.265222</td>\n",
       "      <td>4.931083</td>\n",
       "    </tr>\n",
       "    <tr>\n",
       "      <th>4</th>\n",
       "      <td>5</td>\n",
       "      <td>4.599858</td>\n",
       "      <td>3.709340</td>\n",
       "      <td>4.197465</td>\n",
       "    </tr>\n",
       "    <tr>\n",
       "      <th>5</th>\n",
       "      <td>6</td>\n",
       "      <td>4.883929</td>\n",
       "      <td>4.202351</td>\n",
       "      <td>4.462408</td>\n",
       "    </tr>\n",
       "    <tr>\n",
       "      <th>6</th>\n",
       "      <td>7</td>\n",
       "      <td>4.497869</td>\n",
       "      <td>4.022167</td>\n",
       "      <td>4.180960</td>\n",
       "    </tr>\n",
       "    <tr>\n",
       "      <th>7</th>\n",
       "      <td>8</td>\n",
       "      <td>4.304778</td>\n",
       "      <td>3.349152</td>\n",
       "      <td>3.733741</td>\n",
       "    </tr>\n",
       "    <tr>\n",
       "      <th>8</th>\n",
       "      <td>9</td>\n",
       "      <td>4.359529</td>\n",
       "      <td>3.574319</td>\n",
       "      <td>3.933721</td>\n",
       "    </tr>\n",
       "    <tr>\n",
       "      <th>9</th>\n",
       "      <td>10</td>\n",
       "      <td>4.614951</td>\n",
       "      <td>3.650413</td>\n",
       "      <td>4.568250</td>\n",
       "    </tr>\n",
       "    <tr>\n",
       "      <th>10</th>\n",
       "      <td>11</td>\n",
       "      <td>5.752306</td>\n",
       "      <td>4.598609</td>\n",
       "      <td>5.416358</td>\n",
       "    </tr>\n",
       "    <tr>\n",
       "      <th>11</th>\n",
       "      <td>12</td>\n",
       "      <td>4.861067</td>\n",
       "      <td>3.911290</td>\n",
       "      <td>4.525994</td>\n",
       "    </tr>\n",
       "  </tbody>\n",
       "</table>\n",
       "</div>"
      ],
      "text/plain": [
       "    month  wind_speed_jfk  wind_speed_ewr  wind_speed_lga\n",
       "0       1        5.377993        4.327734        5.068523\n",
       "1       2        5.954299        4.731236        5.521724\n",
       "2       3        6.208833        5.143987        5.848338\n",
       "3       4        5.583980        4.265222        4.931083\n",
       "4       5        4.599858        3.709340        4.197465\n",
       "5       6        4.883929        4.202351        4.462408\n",
       "6       7        4.497869        4.022167        4.180960\n",
       "7       8        4.304778        3.349152        3.733741\n",
       "8       9        4.359529        3.574319        3.933721\n",
       "9      10        4.614951        3.650413        4.568250\n",
       "10     11        5.752306        4.598609        5.416358\n",
       "11     12        4.861067        3.911290        4.525994"
      ]
     },
     "execution_count": 85,
     "metadata": {},
     "output_type": "execute_result"
    }
   ],
   "source": [
    "#Resultant average wind speed means by airport by month\n",
    "three_airports_monthly_means"
   ]
  },
  {
   "cell_type": "markdown",
   "id": "b852fb2e",
   "metadata": {},
   "source": [
    "<h style=\"height:1px; width:100%\">\n",
    "\n",
    "<h2 style=\"color:#1D3361\"> Step 9: Plot Monthly Mean Wind Speeds for all the 3 Airports. </h2>\n"
   ]
  },
  {
   "cell_type": "markdown",
   "id": "a538e794",
   "metadata": {},
   "source": [
    "<p style=\"color:#20568B; font-size:15px\";>\n",
    "This above merged dataframe is now visualized using a plot to compare the monhtly mean wind speeds of LGA, EWR and JFA airports in New York City.\n",
    "</p>"
   ]
  },
  {
   "cell_type": "code",
   "execution_count": 86,
   "id": "c927abd1",
   "metadata": {},
   "outputs": [
    {
     "data": {
      "text/plain": [
       "<matplotlib.legend.Legend at 0x16d25e7d0>"
      ]
     },
     "execution_count": 86,
     "metadata": {},
     "output_type": "execute_result"
    },
    {
     "data": {
      "image/png": "[encoded data removed]",
      "text/plain": [
       "<Figure size 1000x600 with 1 Axes>"
      ]
     },
     "metadata": {},
     "output_type": "display_data"
    }
   ],
   "source": [
    "plt.figure(figsize=(10, 6)) # Setting the size of the plot\n",
    "#Labelling the plot\n",
    "plt.xlabel(\"Month\")\n",
    "plt.ylabel(\"Temperature (Celsius)\")\n",
    "#Plotting the graph\n",
    "plt.plot(three_airports_monthly_means['wind_speed_lga'], label= \"LGA\")\n",
    "plt.plot(three_airports_monthly_means['wind_speed_ewr'], label= \"EWR\")\n",
    "plt.plot(three_airports_monthly_means['wind_speed_jfk'], label= \"JFK\")\n",
    "#Displaying the legend\n",
    "plt.legend()"
   ]
  },
  {
   "cell_type": "markdown",
   "id": "ec59c998",
   "metadata": {},
   "source": [
    "**Conclusion**\n",
    "\n",
    "<p style=\"color:#20568B; font-size:15px\";>\n",
    "We have seen above how the pandas library can be used to read the csv file into a dataframe and then perform analysis on the NYC Flight dataset. In summary we have,\n",
    "</p>\n",
    "\n",
    "* Loaded the source data into a dataframe.\n",
    "\n",
    "* Data manipulation was done to convert the units of measurement to the SI system.\n",
    "\n",
    "* Grouped the data of LGA airport and calculated the daily mean.\n",
    "\n",
    "* Visualized the calculated mean using a line plot.\n",
    "\n",
    "* Calculated the monthly mean by airport and visualized the same.\n",
    "\n",
    "* Further correlation analysis can also be done to see the correlation between the variables.\n",
    "\n",
    "* If more data is available on conditions that would be favourable for take off and landing we can build a predictive model to predict if the conditions are optimal for take off and landing."
   ]
  },
  {
   "cell_type": "markdown",
   "id": "718b1b5d",
   "metadata": {},
   "source": [
    "**References**\n",
    "\n",
    "* Minimilast Data Wrangling with Python (v1.0.3.9011), Marek Gagolewski, Introducing data frames, https://datawranglingpy.gagolewski.com/chapter/410-data-frame.html, accessed 11th January 2024.\n",
    "* Minimilast Data Wrangling with Python (v1.0.3.9011), Marek Gagolewski, Processing data in groups, https://datawranglingpy.gagolewski.com/chapter/430-group-by.html, accessed 11th January 2024.\n"
   ]
  }
 ],
 "metadata": {
  "kernelspec": {
   "display_name": "Python 3 (ipykernel)",
   "language": "python",
   "name": "python3"
  },
  "language_info": {
   "codemirror_mode": {
    "name": "ipython",
    "version": 3
   },
   "file_extension": ".py",
   "mimetype": "text/x-python",
   "name": "python",
   "nbconvert_exporter": "python",
   "pygments_lexer": "ipython3",
   "version": "3.10.9"
  }
 },
 "nbformat": 4,
 "nbformat_minor": 5
}
